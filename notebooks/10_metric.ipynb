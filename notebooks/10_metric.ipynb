{
 "cells": [
  {
   "cell_type": "code",
   "execution_count": 1,
   "metadata": {},
   "outputs": [],
   "source": [
    "%load_ext autoreload\n",
    "%autoreload 2"
   ]
  },
  {
   "cell_type": "code",
   "execution_count": 2,
   "metadata": {},
   "outputs": [],
   "source": [
    "import os\n",
    "import json\n",
    "import csv\n",
    "\n",
    "import pandas as pd\n",
    "import torch\n",
    "from torch.utils.data import DataLoader\n",
    "from sklearn.model_selection import train_test_split\n",
    "from matplotlib import pyplot as plt\n",
    "\n",
    "from pitch_tracker.utils import files, dataset\n",
    "from pitch_tracker.utils.constants import SAMPLE_RATE, PATCH_SIZE, RANDOM_STATE\n",
    "from pitch_tracker.ml.measures import melody_evaluate\n",
    "import medleydb\n"
   ]
  },
  {
   "cell_type": "code",
   "execution_count": 3,
   "metadata": {},
   "outputs": [],
   "source": [
    "import librosa\n",
    "import mir_eval\n",
    "import numpy as np\n",
    "\n",
    "from pitch_tracker.utils.constants import MIDI_START, MIDI_END, F_MIN\n",
    "F_MAX = librosa.midi_to_hz(MIDI_END)\n",
    "def rand_one_hot_encode(n, m):\n",
    "    \"\"\"\n",
    "    Generate a one-hot encoded matrix with n samples and m classes using PyTorch.\n",
    "    :param n: int, number of samples\n",
    "    :param m: int, number of classes\n",
    "    :return: torch tensor of shape (n, m)\n",
    "    \"\"\"\n",
    "    one_hot = torch.zeros(n, m)\n",
    "    for i in range(n):\n",
    "        one_hot[i][torch.randint(0, m, (1,))] = 1\n",
    "    return one_hot\n",
    "\n",
    "def midi_to_hz(midi_value:float):\n",
    "    return 440.0 * (2.0 ** ((torch.as_tensor(midi_value) - 69.0) / 12.0))\n",
    "\n",
    "\n",
    "def class_to_frequency(class_inputs:torch.Tensor, midi_start=MIDI_START, n_classes=89):\n",
    "    # n_classes also includes non-melody pitches\n",
    "    pre_midi_start = midi_start - 1\n",
    "    voiced_mask = class_inputs != 0\n",
    "\n",
    "    midi_values = class_inputs + pre_midi_start\n",
    "    output_frequencies = midi_to_hz(midi_values)\n",
    "    output_frequencies = output_frequencies * voiced_mask\n",
    "\n",
    "    return output_frequencies"
   ]
  },
  {
   "cell_type": "code",
   "execution_count": 4,
   "metadata": {},
   "outputs": [],
   "source": [
    "y_true = rand_one_hot_encode(210, 89).unsqueeze(0)\n",
    "y_pred = torch.softmax(torch.rand(y_true.size()),dim=1)"
   ]
  },
  {
   "cell_type": "code",
   "execution_count": 5,
   "metadata": {},
   "outputs": [
    {
     "data": {
      "text/plain": [
       "tensor([[[0.0034, 0.0034, 0.0066,  ..., 0.0066, 0.0032, 0.0055],\n",
       "         [0.0044, 0.0063, 0.0037,  ..., 0.0062, 0.0064, 0.0049],\n",
       "         [0.0028, 0.0041, 0.0048,  ..., 0.0040, 0.0071, 0.0042],\n",
       "         ...,\n",
       "         [0.0029, 0.0029, 0.0038,  ..., 0.0054, 0.0043, 0.0041],\n",
       "         [0.0041, 0.0045, 0.0066,  ..., 0.0035, 0.0054, 0.0048],\n",
       "         [0.0042, 0.0038, 0.0059,  ..., 0.0051, 0.0074, 0.0055]]])"
      ]
     },
     "execution_count": 5,
     "metadata": {},
     "output_type": "execute_result"
    }
   ],
   "source": [
    "y_pred"
   ]
  },
  {
   "cell_type": "code",
   "execution_count": 6,
   "metadata": {},
   "outputs": [
    {
     "data": {
      "text/plain": [
       "odict_keys(['Voicing Recall', 'Voicing False Alarm', 'Raw Pitch Accuracy', 'Raw Chroma Accuracy', 'Overall Accuracy'])"
      ]
     },
     "execution_count": 6,
     "metadata": {},
     "output_type": "execute_result"
    }
   ],
   "source": [
    "melody_evaluate(y_true, y_pred).keys()"
   ]
  },
  {
   "cell_type": "code",
   "execution_count": 7,
   "metadata": {},
   "outputs": [
    {
     "data": {
      "text/plain": [
       "tensor([[80, 11, 21, 61, 40, 60, 75, 20, 62, 72, 32, 30, 49,  4, 24,  4, 88, 43,\n",
       "         61, 64, 63, 27, 79, 22,  2, 15, 17,  7, 32, 46, 65, 62, 36,  5, 64, 45,\n",
       "         80, 88, 59, 11,  8,  8, 32, 32, 80,  2, 50, 58, 74, 27, 64, 13, 72, 12,\n",
       "         35, 52, 55, 34, 46, 40, 10, 22, 46, 27,  3, 39, 43, 59,  8, 84, 66, 82,\n",
       "          9, 64, 71,  9, 53, 19, 85, 83, 59, 55, 21, 72, 73, 67, 27, 44, 79, 85,\n",
       "         85, 28,  0, 69, 25, 23,  8, 73, 61, 36, 84, 35, 46, 80, 38, 39, 66, 59,\n",
       "         69, 63,  9, 68, 82,  7, 82, 74, 51, 78,  4, 80, 84, 87,  6,  2, 41, 73,\n",
       "         87, 60, 80, 80, 21, 25, 59, 42, 86, 23, 18, 58, 55, 53, 40, 28, 12, 39,\n",
       "         25, 40, 59,  0, 69, 67, 57, 23, 33, 62, 21, 29, 56, 62, 87, 10, 38, 87,\n",
       "         18,  3, 48, 32, 22, 55,  2, 82, 20, 36,  7,  1, 29, 36, 76,  3, 85, 55,\n",
       "          9, 19, 54, 44,  3, 66, 84, 37, 16, 58, 75, 26, 41, 30, 61,  8, 32, 62,\n",
       "         74, 34, 36, 36, 62, 38,  7, 37, 48, 53, 55,  3]])"
      ]
     },
     "metadata": {},
     "output_type": "display_data"
    },
    {
     "data": {
      "text/plain": [
       "tensor([[79, 35, 66, 15, 57, 73, 81, 69, 82, 75, 64, 84, 86, 13, 72, 72, 10, 35,\n",
       "         71, 78, 80, 24, 35, 38, 14, 17, 86, 60, 16, 27, 22, 46, 48, 85, 36, 18,\n",
       "         83,  4, 57, 73, 54, 14, 70, 27, 67, 51, 40, 83, 14, 13, 14, 66, 33, 35,\n",
       "         81, 12, 53, 84,  5, 39,  3, 65, 27, 56, 80, 64, 81, 60, 73,  7, 71, 41,\n",
       "         77,  6, 71, 38, 35, 81, 29,  4, 82, 52, 17, 82, 11, 63, 44, 60, 72, 12,\n",
       "         80,  1, 41, 29, 48, 65, 82, 79, 75, 38, 75, 73, 73, 81, 48, 83, 75, 73,\n",
       "         86, 81, 22,  7, 59, 29, 13, 66, 81, 27,  3,  4,  3, 29, 88, 78, 78, 44,\n",
       "         63, 54, 16, 71, 70, 64, 74, 46, 85, 57, 31, 83, 13, 82, 17, 64,  2, 40,\n",
       "         79, 33, 39, 69, 53, 28, 21, 79, 35, 79, 63, 82,  9, 10, 75, 40, 73, 63,\n",
       "          1, 54, 80, 13, 65,  7, 35, 48, 40, 46, 38, 81,  7, 35, 54, 54, 83,  0,\n",
       "          5, 14,  2, 42, 60, 64, 16, 61, 67, 56,  6, 36, 84,  2, 46, 59, 56, 77,\n",
       "         57, 17, 44, 73, 54, 38, 83, 75, 33, 22, 77, 66]])"
      ]
     },
     "metadata": {},
     "output_type": "display_data"
    }
   ],
   "source": [
    "xssl = torch.argmax(y_true, dim=-1)\n",
    "yssl = torch.argmax(y_pred, dim=-1)\n",
    "display(xssl)\n",
    "display(yssl)"
   ]
  },
  {
   "cell_type": "code",
   "execution_count": 8,
   "metadata": {},
   "outputs": [
    {
     "data": {
      "text/plain": [
       "tensor([79, 35, 66, 15, 57, 73, 81, 69, 82, 75, 64, 84, 86, 13, 72, 72, 10, 35,\n",
       "        71, 78, 80, 24, 35, 38, 14, 17, 86, 60, 16, 27, 22, 46, 48, 85, 36, 18,\n",
       "        83,  4, 57, 73, 54, 14, 70, 27, 67, 51, 40, 83, 14, 13, 14, 66, 33, 35,\n",
       "        81, 12, 53, 84,  5, 39,  3, 65, 27, 56, 80, 64, 81, 60, 73,  7, 71, 41,\n",
       "        77,  6, 71, 38, 35, 81, 29,  4, 82, 52, 17, 82, 11, 63, 44, 60, 72, 12,\n",
       "        80,  1, 41, 29, 48, 65, 82, 79, 75, 38, 75, 73, 73, 81, 48, 83, 75, 73,\n",
       "        86, 81, 22,  7, 59, 29, 13, 66, 81, 27,  3,  4,  3, 29, 88, 78, 78, 44,\n",
       "        63, 54, 16, 71, 70, 64, 74, 46, 85, 57, 31, 83, 13, 82, 17, 64,  2, 40,\n",
       "        79, 33, 39, 69, 53, 28, 21, 79, 35, 79, 63, 82,  9, 10, 75, 40, 73, 63,\n",
       "         1, 54, 80, 13, 65,  7, 35, 48, 40, 46, 38, 81,  7, 35, 54, 54, 83,  0,\n",
       "         5, 14,  2, 42, 60, 64, 16, 61, 67, 56,  6, 36, 84,  2, 46, 59, 56, 77,\n",
       "        57, 17, 44, 73, 54, 38, 83, 75, 33, 22, 77, 66])"
      ]
     },
     "execution_count": 8,
     "metadata": {},
     "output_type": "execute_result"
    }
   ],
   "source": [
    "yssl.flatten()"
   ]
  },
  {
   "cell_type": "code",
   "execution_count": 9,
   "metadata": {},
   "outputs": [],
   "source": [
    "y_true_frequencies = class_to_frequency(xssl)\n",
    "y_pred_frequencies = class_to_frequency(yssl)"
   ]
  },
  {
   "cell_type": "code",
   "execution_count": 10,
   "metadata": {},
   "outputs": [
    {
     "data": {
      "text/plain": [
       "tensor([[2637.0203,   48.9994,   87.3071,  880.0000,  261.6255,  830.6094,\n",
       "         1975.5334,   82.4069,  932.3276, 1661.2188,  164.8138,  146.8324,\n",
       "          440.0000,   32.7032,  103.8262,   32.7032, 4186.0088,  311.1270,\n",
       "          880.0000, 1046.5022,  987.7666,  123.4708, 2489.0159,   92.4986,\n",
       "           29.1352,   61.7354,   69.2957,   38.8909,  164.8138,  369.9944,\n",
       "         1108.7306,  932.3276,  207.6523,   34.6478, 1046.5022,  349.2282,\n",
       "         2637.0203, 4186.0088,  783.9908,   48.9994,   41.2034,   41.2034,\n",
       "          164.8138,  164.8138, 2637.0203,   29.1352,  466.1638,  739.9888,\n",
       "         1864.6549,  123.4708, 1046.5022,   55.0000, 1661.2188,   51.9131,\n",
       "          195.9977,  523.2511,  622.2540,  184.9972,  369.9944,  261.6255,\n",
       "           46.2493,   92.4986,  369.9944,  123.4708,   30.8677,  246.9417,\n",
       "          311.1270,  783.9908,   41.2034, 3322.4377, 1174.6591, 2959.9553,\n",
       "           43.6535, 1046.5022, 1567.9818,   43.6535,  554.3653,   77.7817,\n",
       "         3520.0000, 3135.9631,  783.9908,  622.2540,   87.3071, 1661.2188,\n",
       "         1760.0000, 1244.5079,  123.4708,  329.6276, 2489.0159, 3520.0000,\n",
       "         3520.0000,  130.8128,    0.0000, 1396.9130,  110.0000,   97.9988,\n",
       "           41.2034, 1760.0000,  880.0000,  207.6523, 3322.4377,  195.9977,\n",
       "          369.9944, 2637.0203,  233.0819,  246.9417, 1174.6591,  783.9908,\n",
       "         1396.9130,  987.7666,   43.6535, 1318.5103, 2959.9553,   38.8909,\n",
       "         2959.9553, 1864.6549,  493.8833, 2349.3184,   32.7032, 2637.0203,\n",
       "         3322.4377, 3951.0669,   36.7081,   29.1352,  277.1826, 1760.0000,\n",
       "         3951.0669,  830.6094, 2637.0203, 2637.0203,   87.3071,  110.0000,\n",
       "          783.9908,  293.6648, 3729.3098,   97.9988,   73.4162,  739.9888,\n",
       "          622.2540,  554.3653,  261.6255,  130.8128,   51.9131,  246.9417,\n",
       "          110.0000,  261.6255,  783.9908,    0.0000, 1396.9130, 1244.5079,\n",
       "          698.4565,   97.9988,  174.6141,  932.3276,   87.3071,  138.5913,\n",
       "          659.2551,  932.3276, 3951.0669,   46.2493,  233.0819, 3951.0669,\n",
       "           73.4162,   30.8677,  415.3047,  164.8138,   92.4986,  622.2540,\n",
       "           29.1352, 2959.9553,   82.4069,  207.6523,   38.8909,   27.5000,\n",
       "          138.5913,  207.6523, 2093.0044,   30.8677, 3520.0000,  622.2540,\n",
       "           43.6535,   77.7817,  587.3295,  329.6276,   30.8677, 1174.6591,\n",
       "         3322.4377,  220.0000,   65.4064,  739.9888, 1975.5334,  116.5409,\n",
       "          277.1826,  146.8324,  880.0000,   41.2034,  164.8138,  932.3276,\n",
       "         1864.6549,  184.9972,  207.6523,  207.6523,  932.3276,  233.0819,\n",
       "           38.8909,  220.0000,  415.3047,  554.3653,  622.2540,   30.8677]])"
      ]
     },
     "execution_count": 10,
     "metadata": {},
     "output_type": "execute_result"
    }
   ],
   "source": [
    "y_true_frequencies"
   ]
  },
  {
   "cell_type": "code",
   "execution_count": 11,
   "metadata": {},
   "outputs": [],
   "source": [
    "import librosa"
   ]
  },
  {
   "cell_type": "code",
   "execution_count": 12,
   "metadata": {},
   "outputs": [
    {
     "data": {
      "text/plain": [
       "16744.036179238312"
      ]
     },
     "execution_count": 12,
     "metadata": {},
     "output_type": "execute_result"
    }
   ],
   "source": [
    "librosa.note_to_hz('C10')"
   ]
  },
  {
   "cell_type": "code",
   "execution_count": 13,
   "metadata": {},
   "outputs": [
    {
     "data": {
      "text/plain": [
       "torch.Size([6, 4])"
      ]
     },
     "execution_count": 13,
     "metadata": {},
     "output_type": "execute_result"
    }
   ],
   "source": [
    "y = [\n",
    "    [1,0,0,0],\n",
    "    [0,1,0,0],\n",
    "    [0,0,1,0],\n",
    "    [0,0,1,0],\n",
    "    [0,0,0,1],\n",
    "    [0,0,0,1],\n",
    "    ]\n",
    "y = torch.Tensor(y)\n",
    "y.shape"
   ]
  },
  {
   "cell_type": "code",
   "execution_count": 14,
   "metadata": {},
   "outputs": [],
   "source": [
    "# x = rand_one_hot_encode(10, 4).unsqueeze(0)\n",
    "\n",
    "ys = y.unsqueeze(0)\n",
    "xs = torch.softmax(torch.rand(ys.size()),dim=1)\n",
    "\n",
    "xss = torch.cat([xs]*2,0)\n",
    "yss = torch.cat([ys]*2,0)\n",
    "\n",
    "xssl = torch.argmax(xss, dim=-1).flatten()\n",
    "yssl = torch.argmax(yss, dim=-1).flatten()\n",
    "\n",
    "est_freq = class_to_frequency(xssl)\n",
    "ref_freq = class_to_frequency(yssl)\n",
    "time_1d = torch.arange(0, ref_freq.numel(),1)\n"
   ]
  },
  {
   "cell_type": "code",
   "execution_count": 15,
   "metadata": {},
   "outputs": [
    {
     "data": {
      "text/plain": [
       "torch.Size([2, 6, 4])"
      ]
     },
     "execution_count": 15,
     "metadata": {},
     "output_type": "execute_result"
    }
   ],
   "source": [
    "xss.shape"
   ]
  },
  {
   "cell_type": "code",
   "execution_count": 16,
   "metadata": {},
   "outputs": [
    {
     "data": {
      "text/plain": [
       "OrderedDict([('Voicing Recall', 0.8),\n",
       "             ('Voicing False Alarm', 0.0),\n",
       "             ('Raw Pitch Accuracy', 0.4),\n",
       "             ('Raw Chroma Accuracy', 0.4),\n",
       "             ('Overall Accuracy', 0.5)])"
      ]
     },
     "execution_count": 16,
     "metadata": {},
     "output_type": "execute_result"
    }
   ],
   "source": [
    "scores = mir_eval.melody.evaluate(\n",
    "        ref_time=time_1d.numpy(),\n",
    "        ref_freq=ref_freq.numpy(),\n",
    "        est_time=time_1d.numpy(),\n",
    "        est_freq=est_freq.numpy(),\n",
    "        cent_tolerance=51)\n",
    "scores"
   ]
  },
  {
   "cell_type": "code",
   "execution_count": 17,
   "metadata": {},
   "outputs": [
    {
     "data": {
      "text/plain": [
       "OrderedDict([('Voicing Recall', 0.8),\n",
       "             ('Voicing False Alarm', 0.0),\n",
       "             ('Raw Pitch Accuracy', 0.4),\n",
       "             ('Raw Chroma Accuracy', 0.4),\n",
       "             ('Overall Accuracy', 0.5)])"
      ]
     },
     "execution_count": 17,
     "metadata": {},
     "output_type": "execute_result"
    }
   ],
   "source": [
    "scores = melody_evaluate(yssl,xssl)\n",
    "scores"
   ]
  },
  {
   "cell_type": "code",
   "execution_count": 18,
   "metadata": {},
   "outputs": [
    {
     "data": {
      "text/plain": [
       "(tensor([0, 0, 2, 3, 1, 3, 0, 0, 2, 3, 1, 3]),\n",
       " tensor([0, 1, 2, 2, 3, 3, 0, 1, 2, 2, 3, 3]))"
      ]
     },
     "execution_count": 18,
     "metadata": {},
     "output_type": "execute_result"
    }
   ],
   "source": [
    "xssl, yssl"
   ]
  },
  {
   "cell_type": "code",
   "execution_count": 19,
   "metadata": {},
   "outputs": [
    {
     "data": {
      "text/plain": [
       "1"
      ]
     },
     "execution_count": 19,
     "metadata": {},
     "output_type": "execute_result"
    }
   ],
   "source": [
    "len(yssl.shape)"
   ]
  },
  {
   "cell_type": "code",
   "execution_count": 20,
   "metadata": {},
   "outputs": [
    {
     "data": {
      "text/plain": [
       "(tensor([ 0.0000, 27.5000, 29.1352, 29.1352, 30.8677, 30.8677,  0.0000, 27.5000,\n",
       "         29.1352, 29.1352, 30.8677, 30.8677]),\n",
       " tensor([ 0.0000,  0.0000, 29.1352, 30.8677, 27.5000, 30.8677,  0.0000,  0.0000,\n",
       "         29.1352, 30.8677, 27.5000, 30.8677]))"
      ]
     },
     "execution_count": 20,
     "metadata": {},
     "output_type": "execute_result"
    }
   ],
   "source": [
    "ref_freq, est_freq"
   ]
  },
  {
   "cell_type": "code",
   "execution_count": 21,
   "metadata": {},
   "outputs": [
    {
     "data": {
      "text/plain": [
       "(torch.Size([1, 6, 4]),\n",
       " torch.Size([1, 6, 4]),\n",
       " torch.Size([2, 6, 4]),\n",
       " torch.Size([2, 6, 4]))"
      ]
     },
     "execution_count": 21,
     "metadata": {},
     "output_type": "execute_result"
    }
   ],
   "source": [
    "xs.shape, ys.shape, xss.shape, yss.shape"
   ]
  },
  {
   "cell_type": "code",
   "execution_count": 22,
   "metadata": {},
   "outputs": [
    {
     "ename": "RuntimeError",
     "evalue": "gather(): Expected dtype int64 for index",
     "output_type": "error",
     "traceback": [
      "\u001b[0;31m---------------------------------------------------------------------------\u001b[0m",
      "\u001b[0;31mRuntimeError\u001b[0m                              Traceback (most recent call last)",
      "Cell \u001b[0;32mIn[22], line 11\u001b[0m\n\u001b[1;32m      8\u001b[0m criterion \u001b[39m=\u001b[39m torch\u001b[39m.\u001b[39mnn\u001b[39m.\u001b[39mCrossEntropyLoss()\n\u001b[1;32m     10\u001b[0m loss_reference \u001b[39m=\u001b[39m criterion(xs, ys)\n\u001b[0;32m---> 11\u001b[0m loss \u001b[39m=\u001b[39m my_cross_entropy(xs, ys)\n",
      "Cell \u001b[0;32mIn[22], line 4\u001b[0m, in \u001b[0;36mmy_cross_entropy\u001b[0;34m(x, y)\u001b[0m\n\u001b[1;32m      2\u001b[0m \u001b[39mdef\u001b[39;00m \u001b[39mmy_cross_entropy\u001b[39m(x, y):\n\u001b[1;32m      3\u001b[0m     log_prob \u001b[39m=\u001b[39m \u001b[39m-\u001b[39m\u001b[39m1.0\u001b[39m \u001b[39m*\u001b[39m F\u001b[39m.\u001b[39mlog_softmax(x, \u001b[39m1\u001b[39m)\n\u001b[0;32m----> 4\u001b[0m     loss \u001b[39m=\u001b[39m log_prob\u001b[39m.\u001b[39;49mgather(\u001b[39m1\u001b[39;49m, y\u001b[39m.\u001b[39;49munsqueeze(\u001b[39m1\u001b[39;49m))\n\u001b[1;32m      5\u001b[0m     loss \u001b[39m=\u001b[39m loss\u001b[39m.\u001b[39mmean()\n\u001b[1;32m      6\u001b[0m     \u001b[39mreturn\u001b[39;00m loss\n",
      "\u001b[0;31mRuntimeError\u001b[0m: gather(): Expected dtype int64 for index"
     ]
    }
   ],
   "source": [
    "import torch.nn.functional as F\n",
    "def my_cross_entropy(x, y):\n",
    "    log_prob = -1.0 * F.log_softmax(x, 1)\n",
    "    loss = log_prob.gather(1, y.unsqueeze(1))\n",
    "    loss = loss.mean()\n",
    "    return loss\n",
    "\n",
    "criterion = torch.nn.CrossEntropyLoss()\n",
    "\n",
    "loss_reference = criterion(xs, ys)\n",
    "loss = my_cross_entropy(xs, ys)\n",
    "\n",
    "# print(loss_reference - loss)\n"
   ]
  },
  {
   "cell_type": "code",
   "execution_count": 134,
   "metadata": {},
   "outputs": [
    {
     "data": {
      "text/plain": [
       "(torch.Size([2, 6, 4]), torch.Size([2, 6, 4]))"
      ]
     },
     "execution_count": 134,
     "metadata": {},
     "output_type": "execute_result"
    }
   ],
   "source": [
    "xss.shape, yss.shape"
   ]
  },
  {
   "cell_type": "code",
   "execution_count": 99,
   "metadata": {},
   "outputs": [
    {
     "data": {
      "text/plain": [
       "tensor([0, 5, 8, 4, 9])"
      ]
     },
     "execution_count": 99,
     "metadata": {},
     "output_type": "execute_result"
    }
   ],
   "source": [
    "y"
   ]
  },
  {
   "cell_type": "code",
   "execution_count": null,
   "metadata": {},
   "outputs": [],
   "source": []
  },
  {
   "cell_type": "code",
   "execution_count": 83,
   "metadata": {},
   "outputs": [
    {
     "data": {
      "text/plain": [
       "tensor([0.3762, 0.8364, 0.8474, 0.0816, 0.1550, 0.7574, 0.7805, 0.3203, 0.3081,\n",
       "        0.1468])"
      ]
     },
     "execution_count": 83,
     "metadata": {},
     "output_type": "execute_result"
    }
   ],
   "source": [
    "sample_weight"
   ]
  },
  {
   "cell_type": "code",
   "execution_count": 86,
   "metadata": {},
   "outputs": [
    {
     "data": {
      "text/plain": [
       "'none'"
      ]
     },
     "execution_count": 86,
     "metadata": {},
     "output_type": "execute_result"
    }
   ],
   "source": [
    "criterion.reduction"
   ]
  },
  {
   "cell_type": "code",
   "execution_count": null,
   "metadata": {},
   "outputs": [],
   "source": []
  }
 ],
 "metadata": {
  "kernelspec": {
   "display_name": "thesis",
   "language": "python",
   "name": "python3"
  },
  "language_info": {
   "codemirror_mode": {
    "name": "ipython",
    "version": 3
   },
   "file_extension": ".py",
   "mimetype": "text/x-python",
   "name": "python",
   "nbconvert_exporter": "python",
   "pygments_lexer": "ipython3",
   "version": "3.9.15"
  },
  "orig_nbformat": 4
 },
 "nbformat": 4,
 "nbformat_minor": 2
}
