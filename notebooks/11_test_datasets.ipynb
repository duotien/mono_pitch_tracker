{
 "cells": [
  {
   "cell_type": "code",
   "execution_count": 2,
   "metadata": {},
   "outputs": [],
   "source": [
    "%load_ext autoreload\n",
    "%autoreload 2"
   ]
  },
  {
   "cell_type": "code",
   "execution_count": 3,
   "metadata": {},
   "outputs": [],
   "source": [
    "import os\n",
    "import medleydb\n",
    "from pitch_tracker.utils.medleydb_melody import compute_end_time_stamps, add_sequence_to_melody, make_blank_melody_sequence\n",
    "from pitch_tracker.utils.files import list_all_file_paths_in_dir\n",
    "from pitch_tracker.utils import dataset\n",
    "\n",
    "from tqdm import tqdm\n"
   ]
  },
  {
   "cell_type": "code",
   "execution_count": 21,
   "metadata": {},
   "outputs": [
    {
     "data": {
      "text/plain": [
       "'/Users/tien.d/workspace/GITHUB/mono_pitch_tracker/notebooks/..'"
      ]
     },
     "execution_count": 21,
     "metadata": {},
     "output_type": "execute_result"
    }
   ],
   "source": [
    "\n",
    "NOTEBOOK_DIR = os.getcwd()\n",
    "MONO_PITCH_TRACKER_DIR = os.path.join(NOTEBOOK_DIR, '..')\n",
    "MEDLEYDB_DIR = os.path.join(MONO_PITCH_TRACKER_DIR, 'medleydb/')\n",
    "\n",
    "MONO_PITCH_TRACKER_DIR"
   ]
  },
  {
   "cell_type": "code",
   "execution_count": 5,
   "metadata": {},
   "outputs": [],
   "source": [
    "import csv\n",
    "import librosa\n",
    "import pandas as pd\n",
    "from pitch_tracker.utils.constants import SAMPLE_RATE, HOP_LENGTH\n",
    "\n",
    "def create_melody1_annotation(audio_path:str, annotation_path: str, fs:int=SAMPLE_RATE, hop:int=HOP_LENGTH):\n",
    "    \"\"\"Create a melody1 annotation from pitch annotations\n",
    "    \"\"\"\n",
    "    df = pd.read_csv(annotation_path, delim_whitespace=True, header=None)\n",
    "    f0_annotation = df.values.tolist()\n",
    "    \n",
    "    # f0_annotation = []\n",
    "    # with open(annotation_path, 'r') as fhandle:\n",
    "    #     linereader = csv.reader(fhandle, delimiter='\\t')\n",
    "    #     for line in linereader:\n",
    "    #         timestamp = float(line[0])\n",
    "    #         f0 = float(line[1])\n",
    "    #         f0_annotation.append((timestamp, f0))\n",
    "    \n",
    "    duration = librosa.get_duration(filename=audio_path)\n",
    "    melody_sequence = make_blank_melody_sequence(duration, fs, hop)\n",
    "    \n",
    "    melody1 = add_sequence_to_melody(\n",
    "        total_duration=duration,\n",
    "        f0_sequence=f0_annotation,\n",
    "        melody_sequence=melody_sequence,\n",
    "        fs=fs,\n",
    "        hop=hop,\n",
    "    )\n",
    "\n",
    "    return melody1\n",
    "\n",
    "def write_melody1_label(melody1, output_path, overwrite:bool=True):\n",
    "    if not os.path.exists(output_path) or overwrite:\n",
    "        os.makedirs(os.path.split(output_path)[0], exist_ok=True)\n",
    "        with open(output_path, \"w\", newline='') as fhandle:\n",
    "            writer = csv.writer(fhandle)\n",
    "            writer.writerows(melody1)\n",
    "    else:\n",
    "        print(f\"Path: {output_path} already existed, skipping.\")\n",
    "\n",
    "\n",
    "def convert_to_new_label(audio_path:str, annotation_path:str, output_dir:str, fs:int=SAMPLE_RATE, hop=HOP_LENGTH):\n",
    "    melody1 = create_melody1_annotation(audio_path, annotation_path, fs, hop)\n",
    "    melody1_new = compute_end_time_stamps(melody1, convert_to_midi=True, round_method='round')\n",
    "\n",
    "    audio_name = os.path.splitext(os.path.basename(audio_path))[0]\n",
    "    label_output_path = os.path.join(output_dir, audio_name + '.csv')\n",
    "    write_melody1_label(melody1_new, label_output_path)\n",
    "\n",
    "\n"
   ]
  },
  {
   "cell_type": "code",
   "execution_count": 6,
   "metadata": {},
   "outputs": [
    {
     "name": "stderr",
     "output_type": "stream",
     "text": [
      "0it [00:00, ?it/s]/Users/tien.d/opt/anaconda3/envs/thesis/lib/python3.9/site-packages/librosa/core/convert.py:740: RuntimeWarning: divide by zero encountered in log2\n",
      "  return 12 * (np.log2(np.asanyarray(frequencies)) - np.log2(440.0)) + 69\n",
      "/Users/tien.d/opt/anaconda3/envs/thesis/lib/python3.9/site-packages/librosa/core/convert.py:740: RuntimeWarning: divide by zero encountered in log2\n",
      "  return 12 * (np.log2(np.asanyarray(frequencies)) - np.log2(440.0)) + 69\n",
      "/Users/tien.d/opt/anaconda3/envs/thesis/lib/python3.9/site-packages/librosa/core/convert.py:740: RuntimeWarning: divide by zero encountered in log2\n",
      "  return 12 * (np.log2(np.asanyarray(frequencies)) - np.log2(440.0)) + 69\n",
      "/Users/tien.d/opt/anaconda3/envs/thesis/lib/python3.9/site-packages/librosa/core/convert.py:740: RuntimeWarning: divide by zero encountered in log2\n",
      "  return 12 * (np.log2(np.asanyarray(frequencies)) - np.log2(440.0)) + 69\n",
      "/Users/tien.d/opt/anaconda3/envs/thesis/lib/python3.9/site-packages/librosa/core/convert.py:740: RuntimeWarning: divide by zero encountered in log2\n",
      "  return 12 * (np.log2(np.asanyarray(frequencies)) - np.log2(440.0)) + 69\n",
      "/Users/tien.d/opt/anaconda3/envs/thesis/lib/python3.9/site-packages/librosa/core/convert.py:740: RuntimeWarning: divide by zero encountered in log2\n",
      "  return 12 * (np.log2(np.asanyarray(frequencies)) - np.log2(440.0)) + 69\n",
      "/Users/tien.d/opt/anaconda3/envs/thesis/lib/python3.9/site-packages/librosa/core/convert.py:740: RuntimeWarning: divide by zero encountered in log2\n",
      "  return 12 * (np.log2(np.asanyarray(frequencies)) - np.log2(440.0)) + 69\n",
      "/Users/tien.d/opt/anaconda3/envs/thesis/lib/python3.9/site-packages/librosa/core/convert.py:740: RuntimeWarning: divide by zero encountered in log2\n",
      "  return 12 * (np.log2(np.asanyarray(frequencies)) - np.log2(440.0)) + 69\n",
      "/Users/tien.d/opt/anaconda3/envs/thesis/lib/python3.9/site-packages/librosa/core/convert.py:740: RuntimeWarning: divide by zero encountered in log2\n",
      "  return 12 * (np.log2(np.asanyarray(frequencies)) - np.log2(440.0)) + 69\n",
      "9it [00:00, 85.55it/s]/Users/tien.d/opt/anaconda3/envs/thesis/lib/python3.9/site-packages/librosa/core/convert.py:740: RuntimeWarning: divide by zero encountered in log2\n",
      "  return 12 * (np.log2(np.asanyarray(frequencies)) - np.log2(440.0)) + 69\n",
      "/Users/tien.d/opt/anaconda3/envs/thesis/lib/python3.9/site-packages/librosa/core/convert.py:740: RuntimeWarning: divide by zero encountered in log2\n",
      "  return 12 * (np.log2(np.asanyarray(frequencies)) - np.log2(440.0)) + 69\n",
      "/Users/tien.d/opt/anaconda3/envs/thesis/lib/python3.9/site-packages/librosa/core/convert.py:740: RuntimeWarning: divide by zero encountered in log2\n",
      "  return 12 * (np.log2(np.asanyarray(frequencies)) - np.log2(440.0)) + 69\n",
      "/Users/tien.d/opt/anaconda3/envs/thesis/lib/python3.9/site-packages/librosa/core/convert.py:740: RuntimeWarning: divide by zero encountered in log2\n",
      "  return 12 * (np.log2(np.asanyarray(frequencies)) - np.log2(440.0)) + 69\n",
      "13it [00:00, 80.34it/s]\n",
      "0it [00:00, ?it/s]/Users/tien.d/opt/anaconda3/envs/thesis/lib/python3.9/site-packages/librosa/core/convert.py:740: RuntimeWarning: divide by zero encountered in log2\n",
      "  return 12 * (np.log2(np.asanyarray(frequencies)) - np.log2(440.0)) + 69\n",
      "/Users/tien.d/opt/anaconda3/envs/thesis/lib/python3.9/site-packages/librosa/core/convert.py:740: RuntimeWarning: divide by zero encountered in log2\n",
      "  return 12 * (np.log2(np.asanyarray(frequencies)) - np.log2(440.0)) + 69\n",
      "/Users/tien.d/opt/anaconda3/envs/thesis/lib/python3.9/site-packages/librosa/core/convert.py:740: RuntimeWarning: divide by zero encountered in log2\n",
      "  return 12 * (np.log2(np.asanyarray(frequencies)) - np.log2(440.0)) + 69\n",
      "/Users/tien.d/opt/anaconda3/envs/thesis/lib/python3.9/site-packages/librosa/core/convert.py:740: RuntimeWarning: divide by zero encountered in log2\n",
      "  return 12 * (np.log2(np.asanyarray(frequencies)) - np.log2(440.0)) + 69\n",
      "/Users/tien.d/opt/anaconda3/envs/thesis/lib/python3.9/site-packages/librosa/core/convert.py:740: RuntimeWarning: divide by zero encountered in log2\n",
      "  return 12 * (np.log2(np.asanyarray(frequencies)) - np.log2(440.0)) + 69\n",
      "/Users/tien.d/opt/anaconda3/envs/thesis/lib/python3.9/site-packages/librosa/core/convert.py:740: RuntimeWarning: divide by zero encountered in log2\n",
      "  return 12 * (np.log2(np.asanyarray(frequencies)) - np.log2(440.0)) + 69\n",
      "/Users/tien.d/opt/anaconda3/envs/thesis/lib/python3.9/site-packages/librosa/core/convert.py:740: RuntimeWarning: divide by zero encountered in log2\n",
      "  return 12 * (np.log2(np.asanyarray(frequencies)) - np.log2(440.0)) + 69\n",
      "/Users/tien.d/opt/anaconda3/envs/thesis/lib/python3.9/site-packages/librosa/core/convert.py:740: RuntimeWarning: divide by zero encountered in log2\n",
      "  return 12 * (np.log2(np.asanyarray(frequencies)) - np.log2(440.0)) + 69\n",
      "/Users/tien.d/opt/anaconda3/envs/thesis/lib/python3.9/site-packages/librosa/core/convert.py:740: RuntimeWarning: divide by zero encountered in log2\n",
      "  return 12 * (np.log2(np.asanyarray(frequencies)) - np.log2(440.0)) + 69\n",
      "10it [00:00, 90.63it/s]/Users/tien.d/opt/anaconda3/envs/thesis/lib/python3.9/site-packages/librosa/core/convert.py:740: RuntimeWarning: divide by zero encountered in log2\n",
      "  return 12 * (np.log2(np.asanyarray(frequencies)) - np.log2(440.0)) + 69\n",
      "/Users/tien.d/opt/anaconda3/envs/thesis/lib/python3.9/site-packages/librosa/core/convert.py:740: RuntimeWarning: divide by zero encountered in log2\n",
      "  return 12 * (np.log2(np.asanyarray(frequencies)) - np.log2(440.0)) + 69\n",
      "/Users/tien.d/opt/anaconda3/envs/thesis/lib/python3.9/site-packages/librosa/core/convert.py:740: RuntimeWarning: divide by zero encountered in log2\n",
      "  return 12 * (np.log2(np.asanyarray(frequencies)) - np.log2(440.0)) + 69\n",
      "/Users/tien.d/opt/anaconda3/envs/thesis/lib/python3.9/site-packages/librosa/core/convert.py:740: RuntimeWarning: divide by zero encountered in log2\n",
      "  return 12 * (np.log2(np.asanyarray(frequencies)) - np.log2(440.0)) + 69\n",
      "/Users/tien.d/opt/anaconda3/envs/thesis/lib/python3.9/site-packages/librosa/core/convert.py:740: RuntimeWarning: divide by zero encountered in log2\n",
      "  return 12 * (np.log2(np.asanyarray(frequencies)) - np.log2(440.0)) + 69\n",
      "/Users/tien.d/opt/anaconda3/envs/thesis/lib/python3.9/site-packages/librosa/core/convert.py:740: RuntimeWarning: divide by zero encountered in log2\n",
      "  return 12 * (np.log2(np.asanyarray(frequencies)) - np.log2(440.0)) + 69\n",
      "/Users/tien.d/opt/anaconda3/envs/thesis/lib/python3.9/site-packages/librosa/core/convert.py:740: RuntimeWarning: divide by zero encountered in log2\n",
      "  return 12 * (np.log2(np.asanyarray(frequencies)) - np.log2(440.0)) + 69\n",
      "/Users/tien.d/opt/anaconda3/envs/thesis/lib/python3.9/site-packages/librosa/core/convert.py:740: RuntimeWarning: divide by zero encountered in log2\n",
      "  return 12 * (np.log2(np.asanyarray(frequencies)) - np.log2(440.0)) + 69\n"
     ]
    },
    {
     "name": "stdout",
     "output_type": "stream",
     "text": [
      "/Users/tien.d/workspace/GITHUB/mono_pitch_tracker/datasets/adc2004_full_set/README.txt - Error tokenizing data. C error: Expected 3 fields in line 3, saw 6\n",
      "\n"
     ]
    },
    {
     "name": "stderr",
     "output_type": "stream",
     "text": [
      "/Users/tien.d/opt/anaconda3/envs/thesis/lib/python3.9/site-packages/librosa/core/convert.py:740: RuntimeWarning: divide by zero encountered in log2\n",
      "  return 12 * (np.log2(np.asanyarray(frequencies)) - np.log2(440.0)) + 69\n",
      "/Users/tien.d/opt/anaconda3/envs/thesis/lib/python3.9/site-packages/librosa/core/convert.py:740: RuntimeWarning: divide by zero encountered in log2\n",
      "  return 12 * (np.log2(np.asanyarray(frequencies)) - np.log2(440.0)) + 69\n",
      "20it [00:00, 88.05it/s]\n"
     ]
    }
   ],
   "source": [
    "MIREX05_PATH = '/Users/tien.d/workspace/GITHUB/mono_pitch_tracker/datasets/mirex05TrainFiles/'\n",
    "ADC2004_PATH = '/Users/tien.d/workspace/GITHUB/mono_pitch_tracker/datasets/adc2004_full_set/'\n",
    "\n",
    "for dataset_name, dataset_path in [('MIREX05',MIREX05_PATH), ('ADC2004',ADC2004_PATH)]:\n",
    "    ref_paths =  sorted(list_all_file_paths_in_dir(dataset_path, exts='txt'))\n",
    "    audio_paths = sorted(list_all_file_paths_in_dir(dataset_path, exts=('.mp3', '.wav')))\n",
    "    out_dir = f'../content/gen_label_test/{dataset_name}/'\n",
    "    \n",
    "    os.makedirs(out_dir, exist_ok=True)\n",
    "    for audio_path, ref_path in tqdm(zip(audio_paths, ref_paths)):\n",
    "        try:\n",
    "            convert_to_new_label(audio_path, ref_path, out_dir)\n",
    "        except Exception as e:\n",
    "            print(f'{ref_path} - {e}')"
   ]
  },
  {
   "cell_type": "code",
   "execution_count": 7,
   "metadata": {},
   "outputs": [],
   "source": [
    "MIREX05_label_dir = '/Users/tien.d/workspace/GITHUB/mono_pitch_tracker/content/gen_label_test/MIREX05'\n",
    "ADC2004_label_dir = '/Users/tien.d/workspace/GITHUB/mono_pitch_tracker/content/gen_label_test/ADC2004'\n",
    "m05 = dataset.create_dataset_path_dict_ext(MIREX05_label_dir, MIREX05_PATH)\n",
    "adc04 = dataset.create_dataset_path_dict_ext(ADC2004_label_dir, ADC2004_PATH)"
   ]
  },
  {
   "cell_type": "code",
   "execution_count": 22,
   "metadata": {},
   "outputs": [],
   "source": [
    "from pitch_tracker.utils.constants import F_MIN, N_CLASS, N_FFT, PATCH_SIZE\n",
    "\n",
    "def create_pickled_data(label_dir, audio_dir, output_pickled_dir_label, stft_hop_size, analysis_frame_size, n_mels):\n",
    "    \n",
    "    label_dict = dataset.create_label_dict_from_dir(label_dir)\n",
    "    for k, v in label_dict.items():\n",
    "        print(k, v.shape)\n",
    "    \n",
    "    dataset_paths = dataset.create_dataset_path_dict_ext(label_dir, audio_dir)\n",
    "    analysis_frame_time = analysis_frame_size * (stft_hop_size/SAMPLE_RATE)\n",
    "    patch_step = int(PATCH_SIZE/2)\n",
    "\n",
    "    feature_label_gen = dataset.create_feature_label_generator(\n",
    "        dataset_path_dict=dataset_paths,\n",
    "        sample_rate=SAMPLE_RATE,\n",
    "        n_fft=N_FFT,\n",
    "        n_mels=n_mels,\n",
    "        n_class=N_CLASS,\n",
    "        hop_length=stft_hop_size,\n",
    "        patch_step=patch_step,\n",
    "        patch_size=PATCH_SIZE,\n",
    "        analysis_frame_size=analysis_frame_size,\n",
    "        analysis_frame_time=analysis_frame_time,\n",
    "        dist_threshold=0.1,\n",
    "        empty_threshold=0.3,\n",
    "        fmin=F_MIN\n",
    "    )\n",
    "\n",
    "    output_pickled_dir = f'{MONO_PITCH_TRACKER_DIR}/content/pickled_database/{output_pickled_dir_label}/{stft_hop_size}_{analysis_frame_size}_{n_mels}/'\n",
    "    passed_songs = dataset.write_feature_label_to_disk_by_frame(\n",
    "        feature_label_gen, output_pickled_dir, categorize_by_subdir = True)\n",
    "    failed_songs = [label for label in dataset_paths if label not in passed_songs]\n",
    "    print(failed_songs)\n",
    "    del failed_songs"
   ]
  },
  {
   "cell_type": "code",
   "execution_count": 23,
   "metadata": {},
   "outputs": [
    {
     "name": "stdout",
     "output_type": "stream",
     "text": [
      "midi4 (52, 3)\n",
      "pop4 (125, 3)\n",
      "midi1 (17, 3)\n",
      "pop1 (413, 3)\n",
      "midi2 (64, 3)\n",
      "pop3 (167, 3)\n",
      "midi3 (21, 3)\n",
      "pop2 (253, 3)\n",
      "opera_male5 (586, 3)\n",
      "opera_fem4 (338, 3)\n",
      "opera_male3 (310, 3)\n",
      "opera_fem2 (52, 3)\n",
      "jazz4 (12, 3)\n",
      "daisy2 (41, 3)\n",
      "daisy3 (57, 3)\n",
      "jazz1 (38, 3)\n",
      "jazz2 (33, 3)\n",
      "daisy4 (38, 3)\n",
      "jazz3 (29, 3)\n",
      "[]\n"
     ]
    }
   ],
   "source": [
    "create_pickled_data(ADC2004_label_dir, ADC2004_PATH,'ADC2004', 512, 5, 176)\n",
    "create_pickled_data(MIREX05_label_dir, MIREX05_PATH,'MIREX05', 512, 5, 176)"
   ]
  },
  {
   "cell_type": "code",
   "execution_count": 24,
   "metadata": {},
   "outputs": [
    {
     "name": "stdout",
     "output_type": "stream",
     "text": [
      "train09 (286, 3)\n",
      "train08 (351, 3)\n",
      "train13MIDI (77, 3)\n",
      "train12 (43, 3)\n",
      "train06 (209, 3)\n",
      "train07 (329, 3)\n",
      "train05 (215, 3)\n",
      "train11 (72, 3)\n",
      "train10 (60, 3)\n",
      "train04 (497, 3)\n",
      "train01 (185, 3)\n",
      "train03 (261, 3)\n",
      "train02 (478, 3)\n",
      "[]\n"
     ]
    }
   ],
   "source": []
  }
 ],
 "metadata": {
  "kernelspec": {
   "display_name": "thesis",
   "language": "python",
   "name": "python3"
  },
  "language_info": {
   "codemirror_mode": {
    "name": "ipython",
    "version": 3
   },
   "file_extension": ".py",
   "mimetype": "text/x-python",
   "name": "python",
   "nbconvert_exporter": "python",
   "pygments_lexer": "ipython3",
   "version": "3.9.15"
  },
  "orig_nbformat": 4
 },
 "nbformat": 4,
 "nbformat_minor": 2
}
