{
 "cells": [
  {
   "attachments": {},
   "cell_type": "markdown",
   "metadata": {},
   "source": [
    "This project uses the [medleyDB dataset](https://medleydb.weebly.com/)\n"
   ]
  },
  {
   "cell_type": "code",
   "execution_count": 9,
   "metadata": {},
   "outputs": [],
   "source": [
    "import numpy as np\n",
    "import pandas as pd\n",
    "import os"
   ]
  },
  {
   "attachments": {},
   "cell_type": "markdown",
   "metadata": {},
   "source": [
    "If import medleydb return `TypeError: load() missing 1 required positional argument: 'Loader'`, you need to downgrade pyyamel:\n",
    "```\n",
    "pyyaml==5.4.1\n",
    "```"
   ]
  },
  {
   "cell_type": "code",
   "execution_count": 10,
   "metadata": {},
   "outputs": [],
   "source": [
    "# path to medleydb repo https://github.com/marl/medleydb\n",
    "medleydb_repo_path = \"../medleydb/\"\n",
    "medleydb_data_path = os.path.join(medleydb_repo_path, 'medleydb/data/')\n",
    "os.environ['MEDLEYDB_PATH'] = medleydb_data_path\n",
    "import medleydb\n",
    "from pitch_tracker.utils.medleydb_melody import gen_label"
   ]
  },
  {
   "cell_type": "code",
   "execution_count": 13,
   "metadata": {},
   "outputs": [
    {
     "name": "stderr",
     "output_type": "stream",
     "text": [
      "/Users/tien.d/workspace/GITHUB/mono_pitch_tracker/medleydb/medleydb/multitrack.py:367: YAMLLoadWarning: calling yaml.load() without Loader=... is deprecated, as the default Loader is unsafe. Please read https://msg.pyyaml.org/load for full details.\n",
      "  metadata = yaml.load(f_in)\n",
      "/Users/tien.d/workspace/GITHUB/mono_pitch_tracker/medleydb/medleydb/multitrack.py:367: YAMLLoadWarning: calling yaml.load() without Loader=... is deprecated, as the default Loader is unsafe. Please read https://msg.pyyaml.org/load for full details.\n",
      "  metadata = yaml.load(f_in)\n"
     ]
    },
    {
     "ename": "TypeError",
     "evalue": "unsupported operand type(s) for *: 'NoneType' and 'float'",
     "output_type": "error",
     "traceback": [
      "\u001b[0;31m---------------------------------------------------------------------------\u001b[0m",
      "\u001b[0;31mTypeError\u001b[0m                                 Traceback (most recent call last)",
      "Cell \u001b[0;32mIn[13], line 8\u001b[0m\n\u001b[1;32m      5\u001b[0m mtracks \u001b[39m=\u001b[39m medleydb\u001b[39m.\u001b[39mload_all_multitracks()\n\u001b[1;32m      7\u001b[0m \u001b[39mfor\u001b[39;00m mtrack \u001b[39min\u001b[39;00m mtracks:\n\u001b[0;32m----> 8\u001b[0m     gen_label(mtrack\u001b[39m.\u001b[39;49mtrack_id, output_dir, hop\u001b[39m=\u001b[39;49mHOP, overwrite\u001b[39m=\u001b[39;49m\u001b[39mTrue\u001b[39;49;00m, convert_to_midi\u001b[39m=\u001b[39;49m\u001b[39mTrue\u001b[39;49;00m, round_method\u001b[39m=\u001b[39;49m\u001b[39mNone\u001b[39;49;00m)\n\u001b[1;32m      9\u001b[0m     \u001b[39mbreak\u001b[39;00m\n",
      "File \u001b[0;32m~/workspace/GITHUB/mono_pitch_tracker/pitch_tracker/utils/medleydb_melody.py:383\u001b[0m, in \u001b[0;36mgen_label\u001b[0;34m(track_id, output_dir, fs, hop, overwrite, convert_to_midi, round_method)\u001b[0m\n\u001b[1;32m    380\u001b[0m mtrack \u001b[39m=\u001b[39m medleydb\u001b[39m.\u001b[39mMultiTrack(track_id)\n\u001b[1;32m    381\u001b[0m melody1 \u001b[39m=\u001b[39m create_melody1_annotation(mtrack,fs,hop)\n\u001b[0;32m--> 383\u001b[0m \u001b[39mif\u001b[39;00m mtrack\u001b[39m.\u001b[39mis_instrumental \u001b[39m==\u001b[39m \u001b[39mFalse\u001b[39;00m \u001b[39mand\u001b[39;00m melody1 \u001b[39mis\u001b[39;00m \u001b[39mnot\u001b[39;00m \u001b[39mNone\u001b[39;00m:\n\u001b[1;32m    384\u001b[0m     melody1_nz \u001b[39m=\u001b[39m compute_end_time_stamps(melody1, convert_to_midi, round_method)\n\u001b[1;32m    385\u001b[0m \u001b[39melse\u001b[39;00m:\n",
      "File \u001b[0;32m~/workspace/GITHUB/mono_pitch_tracker/pitch_tracker/utils/medleydb_melody.py:166\u001b[0m, in \u001b[0;36mcreate_melody1_annotation\u001b[0;34m(mtrack, fs, hop)\u001b[0m\n\u001b[1;32m    162\u001b[0m     \u001b[39m# print(f0_annotation)\u001b[39;00m\n\u001b[1;32m    164\u001b[0m     melody_sequence \u001b[39m=\u001b[39m make_blank_melody_sequence(mtrack\u001b[39m.\u001b[39mduration, fs, hop)\n\u001b[1;32m    165\u001b[0m     melody1 \u001b[39m=\u001b[39m add_sequence_to_melody(\n\u001b[0;32m--> 166\u001b[0m         mtrack\u001b[39m.\u001b[39mduration, f0_annotation, melody_sequence, fs, hop\n\u001b[1;32m    167\u001b[0m     )\n\u001b[1;32m    168\u001b[0m \u001b[39melse\u001b[39;00m:\n\u001b[1;32m    169\u001b[0m     melody1 \u001b[39m=\u001b[39m \u001b[39mNone\u001b[39;00m\n",
      "File \u001b[0;32m~/workspace/GITHUB/mono_pitch_tracker/pitch_tracker/utils/medleydb_melody.py:63\u001b[0m, in \u001b[0;36mmake_blank_melody_sequence\u001b[0;34m(total_duration, fs, hop)\u001b[0m\n\u001b[1;32m     61\u001b[0m time_stamps \u001b[39m=\u001b[39m get_time_stamps(total_duration, fs, hop)\n\u001b[1;32m     62\u001b[0m melody_sequence \u001b[39m=\u001b[39m np\u001b[39m.\u001b[39mzeros((\u001b[39mlen\u001b[39m(time_stamps), \u001b[39m2\u001b[39m))\n\u001b[0;32m---> 63\u001b[0m \u001b[39mfor\u001b[39;00m i, time_stamp \u001b[39min\u001b[39;00m \u001b[39menumerate\u001b[39m(time_stamps):\n\u001b[1;32m     64\u001b[0m     melody_sequence[i][\u001b[39m0\u001b[39m] \u001b[39m=\u001b[39m time_stamp\n\u001b[1;32m     65\u001b[0m \u001b[39mreturn\u001b[39;00m melody_sequence\n",
      "File \u001b[0;32m~/workspace/GITHUB/mono_pitch_tracker/pitch_tracker/utils/medleydb_melody.py:40\u001b[0m, in \u001b[0;36mget_time_stamps\u001b[0;34m(total_duration, fs, hop)\u001b[0m\n\u001b[1;32m     38\u001b[0m n_stamps \u001b[39m=\u001b[39m \u001b[39mint\u001b[39m(np\u001b[39m.\u001b[39mceil((total_duration \u001b[39m*\u001b[39m fs) \u001b[39m/\u001b[39m hop))\n\u001b[1;32m     39\u001b[0m time_stamps \u001b[39m=\u001b[39m np\u001b[39m.\u001b[39marange(n_stamps) \u001b[39m*\u001b[39m (hop \u001b[39m/\u001b[39m fs)\n\u001b[0;32m---> 40\u001b[0m \u001b[39mreturn\u001b[39;00m time_stamps\n",
      "\u001b[0;31mTypeError\u001b[0m: unsupported operand type(s) for *: 'NoneType' and 'float'"
     ]
    }
   ],
   "source": [
    "# mtracks = medleydb.load_all_multitracks()\n",
    "\n",
    "HOP = 512*5\n",
    "output_dir = f'/Users/tien.d/workspace/GITHUB/medleydb/content/gen_label/{HOP}'\n",
    "mtracks = medleydb.load_all_multitracks()\n",
    "\n",
    "for mtrack in mtracks:\n",
    "    gen_label(mtrack.track_id, output_dir, hop=HOP, overwrite=True, convert_to_midi=True, round_method=None)\n",
    "    break"
   ]
  },
  {
   "cell_type": "code",
   "execution_count": null,
   "metadata": {},
   "outputs": [],
   "source": []
  }
 ],
 "metadata": {
  "kernelspec": {
   "display_name": "thesis",
   "language": "python",
   "name": "python3"
  },
  "language_info": {
   "codemirror_mode": {
    "name": "ipython",
    "version": 3
   },
   "file_extension": ".py",
   "mimetype": "text/x-python",
   "name": "python",
   "nbconvert_exporter": "python",
   "pygments_lexer": "ipython3",
   "version": "3.9.15"
  },
  "orig_nbformat": 4,
  "vscode": {
   "interpreter": {
    "hash": "f3071ef67f0d52b8c9e2a13540b1ce413279ebac2bba14c7b121f8f9e6920f86"
   }
  }
 },
 "nbformat": 4,
 "nbformat_minor": 2
}
