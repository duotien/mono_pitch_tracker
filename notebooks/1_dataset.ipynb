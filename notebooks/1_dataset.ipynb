{
 "cells": [
  {
   "cell_type": "markdown",
   "metadata": {},
   "source": [
    "# MedleyDB dataset\n",
    "This project uses the [MedleyDB dataset](https://medleydb.weebly.com/) V1 (and V2). To get access to the dataset, you need to ask for permission through Zenodo. \\\n",
    "This notebook is created to explore the MedleyDB dataset. There is an overview of the dataset here: https://medleydb.weebly.com/description.html \\\n",
    "Fortunately, the authors provides a sample of the dataset here: https://zenodo.org/record/1438309#.Y9dniuxBy3I. The sample set contains 2 songs from V1:\n",
    "1. LizNelson_Rainfall\n",
    "2. Phoenix_ScotchMorris\n",
    "\n",
    "## Setups\n",
    "To correctly setup the medleydb library, the `medleydb/medleydb/data/` folder need to have the structure below:\n",
    "```\n",
    "medleydb #sub-module\n",
    "├── medleydb\n",
    "│   ├── data\n",
    "│   │   ├── Annotations\n",
    "│   │   ├── Audio\n",
    "│   │   └── Metadata\n",
    "...\n",
    "```\n",
    "Simply rename `V1` or `V2` folder after extracting to `Audio` and put it inside the `data/` folder above. \\\n",
    "For the MedleyDB Sample (2 songs) simply copy-paste `Audio` folder into `data/`.\n",
    "\n",
    "For accessibility, we will try to use only the 2 songs in the sample set for making example."
   ]
  },
  {
   "cell_type": "code",
   "execution_count": null,
   "metadata": {},
   "outputs": [],
   "source": [
    "%load_ext autoreload\n",
    "%autoreload 2"
   ]
  },
  {
   "cell_type": "code",
   "execution_count": null,
   "metadata": {},
   "outputs": [],
   "source": [
    "import numpy as np\n",
    "import pandas as pd\n",
    "import os\n",
    "import random"
   ]
  },
  {
   "attachments": {},
   "cell_type": "markdown",
   "metadata": {},
   "source": [
    "If import medleydb return `TypeError: load() missing 1 required positional argument: 'Loader'`, you need to downgrade pyyaml:\n",
    "```\n",
    "pyyaml==5.4.1\n",
    "```"
   ]
  },
  {
   "cell_type": "code",
   "execution_count": null,
   "metadata": {},
   "outputs": [],
   "source": [
    "# path to a forked medleydb repo https://github.com/duotien/medleydb\n",
    "medleydb_repo_path = f\"{os.getcwd()}/../medleydb/\"\n",
    "medleydb_data_path = os.path.join(medleydb_repo_path, 'medleydb/data/')\n",
    "print(medleydb_data_path)\n",
    "os.environ['MEDLEYDB_PATH'] = medleydb_data_path\n",
    "import medleydb\n",
    "from pitch_tracker.utils.medleydb_melody import gen_label"
   ]
  },
  {
   "attachments": {},
   "cell_type": "markdown",
   "metadata": {},
   "source": [
    "# Generate annotations\n",
    "medleyDB also has tools for customizing the annotations. However you need to have the audio for it to work."
   ]
  },
  {
   "cell_type": "code",
   "execution_count": null,
   "metadata": {},
   "outputs": [],
   "source": [
    "HOP = 512*5\n",
    "output_dir = f'../content/gen_label/{HOP}'\n",
    "mtracks = medleydb.load_all_multitracks()\n",
    "\n",
    "for mtrack in mtracks:\n",
    "    gen_label(mtrack.track_id, output_dir, hop=HOP, overwrite=True, convert_to_midi=True, round_method='round', to_csv=True)\n",
    "    # gen_label(mtrack.track_id, output_dir, hop=HOP, overwrite=True, convert_to_midi=True, round_method='round', to_csv=False)"
   ]
  },
  {
   "cell_type": "code",
   "execution_count": null,
   "metadata": {},
   "outputs": [],
   "source": [
    "melody_1_path, melody_2_path, *_ = [os.path.join(output_dir, folder_path) for folder_path in os.listdir(output_dir)]"
   ]
  },
  {
   "cell_type": "code",
   "execution_count": null,
   "metadata": {},
   "outputs": [],
   "source": [
    "melody_2_annotation_paths = []\n",
    "for root, folders, files in os.walk(melody_2_path):\n",
    "    melody_2_annotation_paths.extend([os.path.join(root, fpath) for fpath in files])"
   ]
  },
  {
   "cell_type": "code",
   "execution_count": null,
   "metadata": {},
   "outputs": [],
   "source": [
    "sample_annotation_path = random.choice(melody_2_annotation_paths)\n",
    "print(sample_annotation_path)\n",
    "df = pd.read_csv(sample_annotation_path, names=['start', 'end', 'midi_value'])\n",
    "df.head(5)"
   ]
  },
  {
   "attachments": {},
   "cell_type": "markdown",
   "metadata": {},
   "source": [
    "# Visualise\n",
    "We recommend using Sonic Visualiser to visualize the annotations with audios."
   ]
  },
  {
   "cell_type": "code",
   "execution_count": null,
   "metadata": {},
   "outputs": [],
   "source": [
    "# code to visualize using matplotlib\n",
    "from matplotlib import pyplot as plt"
   ]
  },
  {
   "cell_type": "code",
   "execution_count": null,
   "metadata": {},
   "outputs": [],
   "source": []
  }
 ],
 "metadata": {
  "kernelspec": {
   "display_name": "mpt_2022",
   "language": "python",
   "name": "python3"
  },
  "language_info": {
   "codemirror_mode": {
    "name": "ipython",
    "version": 3
   },
   "file_extension": ".py",
   "mimetype": "text/x-python",
   "name": "python",
   "nbconvert_exporter": "python",
   "pygments_lexer": "ipython3",
   "version": "3.9.16 (main, Jan 11 2023, 10:02:19) \n[Clang 14.0.6 ]"
  },
  "orig_nbformat": 4,
  "vscode": {
   "interpreter": {
    "hash": "8f37f74b7ab43d4990fe9d125c9100e61f443c10ade0cafa945047ac5562ddcb"
   }
  }
 },
 "nbformat": 4,
 "nbformat_minor": 2
}
