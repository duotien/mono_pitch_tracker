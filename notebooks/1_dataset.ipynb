{
 "cells": [
  {
   "cell_type": "code",
   "execution_count": null,
   "metadata": {},
   "outputs": [],
   "source": [
    "%load_ext autoreload\n",
    "%autoreload 2"
   ]
  },
  {
   "attachments": {},
   "cell_type": "markdown",
   "metadata": {},
   "source": [
    "This project uses the [medleyDB dataset](https://medleydb.weebly.com/)\n"
   ]
  },
  {
   "cell_type": "code",
   "execution_count": null,
   "metadata": {},
   "outputs": [],
   "source": [
    "import numpy as np\n",
    "import pandas as pd\n",
    "import os"
   ]
  },
  {
   "attachments": {},
   "cell_type": "markdown",
   "metadata": {},
   "source": [
    "If import medleydb return `TypeError: load() missing 1 required positional argument: 'Loader'`, you need to downgrade pyyamel:\n",
    "```\n",
    "pyyaml==5.4.1\n",
    "```"
   ]
  },
  {
   "cell_type": "code",
   "execution_count": null,
   "metadata": {},
   "outputs": [],
   "source": [
    "# path to a forked medleydb repo https://github.com/duotien/medleydb\n",
    "medleydb_repo_path = \"/Users/tien.d/workspace/GITHUB/mono_pitch_tracker/medleydb/\"\n",
    "medleydb_data_path = os.path.join(medleydb_repo_path, 'medleydb/data/')\n",
    "print(medleydb_data_path)\n",
    "os.environ['MEDLEYDB_PATH'] = medleydb_data_path\n",
    "import medleydb\n",
    "from pitch_tracker.utils.medleydb_melody import gen_label"
   ]
  },
  {
   "cell_type": "code",
   "execution_count": null,
   "metadata": {},
   "outputs": [],
   "source": [
    "# mtracks = medleydb.load_all_multitracks()\n",
    "\n",
    "HOP = 512*5\n",
    "output_dir = f'../content/gen_label/{HOP}'\n",
    "mtracks = medleydb.load_all_multitracks()\n",
    "\n",
    "for mtrack in mtracks:\n",
    "    gen_label(mtrack.track_id, output_dir, hop=HOP, overwrite=True, convert_to_midi=True, round_method='round', to_csv=True)\n",
    "    # gen_label(mtrack.track_id, output_dir, hop=HOP, overwrite=True, convert_to_midi=True, round_method='round', to_csv=False)"
   ]
  },
  {
   "cell_type": "code",
   "execution_count": null,
   "metadata": {},
   "outputs": [],
   "source": []
  }
 ],
 "metadata": {
  "kernelspec": {
   "display_name": "thesis",
   "language": "python",
   "name": "python3"
  },
  "language_info": {
   "codemirror_mode": {
    "name": "ipython",
    "version": 3
   },
   "file_extension": ".py",
   "mimetype": "text/x-python",
   "name": "python",
   "nbconvert_exporter": "python",
   "pygments_lexer": "ipython3",
   "version": "3.9.15"
  },
  "orig_nbformat": 4,
  "vscode": {
   "interpreter": {
    "hash": "f3071ef67f0d52b8c9e2a13540b1ce413279ebac2bba14c7b121f8f9e6920f86"
   }
  }
 },
 "nbformat": 4,
 "nbformat_minor": 2
}
