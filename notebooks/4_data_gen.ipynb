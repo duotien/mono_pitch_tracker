{
 "cells": [
  {
   "cell_type": "code",
   "execution_count": 9,
   "metadata": {},
   "outputs": [],
   "source": [
    "# make a data generator that yeild the features and labels\n",
    "# we first need to cut the audio into frames\n",
    "# then get the labels to fit those frames\n"
   ]
  },
  {
   "cell_type": "code",
   "execution_count": 10,
   "metadata": {},
   "outputs": [
    {
     "name": "stdout",
     "output_type": "stream",
     "text": [
      "The autoreload extension is already loaded. To reload it, use:\n",
      "  %reload_ext autoreload\n"
     ]
    }
   ],
   "source": [
    "%load_ext autoreload\n",
    "%autoreload 2\n"
   ]
  },
  {
   "cell_type": "code",
   "execution_count": 15,
   "metadata": {},
   "outputs": [],
   "source": [
    "# cut audio into frames\n",
    "import os\n",
    "\n",
    "import numpy as np\n",
    "import pandas as pd\n",
    "import random\n",
    "\n",
    "\n",
    "from pitch_tracker.utils.constants import (F_MIN, HOP_LENGTH, N_FFT, N_MELS,\n",
    "                                           PATCH_SIZE,\n",
    "                                           PATCH_STEP,\n",
    "                                           SAMPLE_RATE,\n",
    "                                           ANALYSIS_FRAME_SIZE, ANALYSIS_FRAME_TIME,\n",
    "                                           N_CLASS, PRE_MIDI_START)\n",
    "from pitch_tracker.utils.audio import load_audio_mono\n",
    "from pitch_tracker.utils import files\n",
    "from pitch_tracker.utils import dataset\n"
   ]
  },
  {
   "cell_type": "code",
   "execution_count": 16,
   "metadata": {},
   "outputs": [
    {
     "name": "stdout",
     "output_type": "stream",
     "text": [
      "(1, 88, 15258)\n",
      "(1, 513, 15258)\n"
     ]
    }
   ],
   "source": [
    "audio_path = '../medleydb/medleydb/data/Audio/Phoenix_ScotchMorris/Phoenix_ScotchMorris_MIX.wav'\n",
    "signal, sample_rate = load_audio_mono(\n",
    "    audio_path, SAMPLE_RATE, keep_channel_dim=True)\n",
    "mel_features = dataset.extract_melspectrogram_feature(\n",
    "    signal, N_FFT, HOP_LENGTH, N_MELS, SAMPLE_RATE, backend='librosa')\n",
    "print(mel_features.shape)\n",
    "\n",
    "stft_feature = dataset.extract_stft_feature(signal, N_FFT, HOP_LENGTH)\n",
    "print(stft_feature.shape)\n"
   ]
  },
  {
   "cell_type": "code",
   "execution_count": 17,
   "metadata": {},
   "outputs": [
    {
     "name": "stdout",
     "output_type": "stream",
     "text": [
      "AClassicEducation_NightOwl (581, 3)\n",
      "AimeeNorwich_Child (191, 3)\n",
      "AimeeNorwich_Flying (360, 3)\n",
      "AlexanderRoss_GoodbyeBolero (1690, 3)\n",
      "AlexanderRoss_VelvetCurtain (2384, 3)\n",
      "AmarLal_Rest (160, 3)\n",
      "AmarLal_SpringDay1 (158, 3)\n",
      "Auctioneer_OurFutureFaces (707, 3)\n",
      "AvaLuna_Waterduct (826, 3)\n",
      "BigTroubles_Phantom (346, 3)\n",
      "BrandonWebster_DontHearAThing (906, 3)\n",
      "BrandonWebster_YesSirICanFly (668, 3)\n",
      "CelestialShore_DieForUs (325, 3)\n",
      "ChrisJacoby_BoothShotLincoln (893, 3)\n",
      "ChrisJacoby_PigsFoot (1265, 3)\n",
      "ClaraBerryAndWooldog_AirTraffic (578, 3)\n",
      "ClaraBerryAndWooldog_Boys (564, 3)\n",
      "ClaraBerryAndWooldog_Stella (354, 3)\n",
      "ClaraBerryAndWooldog_TheBadGuys (438, 3)\n",
      "ClaraBerryAndWooldog_WaltzForMyVictims (242, 3)\n",
      "Creepoid_OldTree (497, 3)\n",
      "CroqueMadame_Oil (1120, 3)\n",
      "CroqueMadame_Pilot (1118, 3)\n",
      "Debussy_LenfantProdigue (1740, 3)\n",
      "DreamersOfTheGhetto_HeavyLove (857, 3)\n",
      "EthanHein_1930sSynthAndUprightBass (875, 3)\n",
      "EthanHein_GirlOnABridge (105, 3)\n",
      "FacesOnFilm_WaitingForGa (778, 3)\n",
      "FamilyBand_Again (273, 3)\n",
      "Handel_TornamiAVagheggiar (1484, 3)\n",
      "HeladoNegro_MitadDelMundo (779, 3)\n",
      "HezekiahJones_BorrowedHeart (787, 3)\n",
      "HopAlong_SisterCities (963, 3)\n",
      "InvisibleFamiliars_DisturbingWildlife (808, 3)\n",
      "JoelHelander_Definition (425, 3)\n",
      "JoelHelander_ExcessiveResistancetoChange (338, 3)\n",
      "JoelHelander_IntheAtticBedroom (340, 3)\n",
      "KarimDouaidy_Hopscotch (760, 3)\n",
      "KarimDouaidy_Yatora (651, 3)\n",
      "LizNelson_Coldwar (1063, 3)\n",
      "LizNelson_ImComingHome (736, 3)\n",
      "LizNelson_Rainfall (1402, 3)\n",
      "MatthewEntwistle_DontYouEver (495, 3)\n",
      "MatthewEntwistle_FairerHopes (258, 3)\n",
      "MatthewEntwistle_ImpressionsOfSaturn (742, 3)\n",
      "MatthewEntwistle_Lontano (1338, 3)\n",
      "MatthewEntwistle_TheArch (203, 3)\n",
      "MatthewEntwistle_TheFlaxenField (1201, 3)\n",
      "Meaxic_TakeAStep (1040, 3)\n",
      "Meaxic_YouListen (1682, 3)\n",
      "MichaelKropf_AllGoodThings (902, 3)\n",
      "Mozart_BesterJungling (1177, 3)\n",
      "Mozart_DiesBildnis (1739, 3)\n",
      "MusicDelta_80sRock (147, 3)\n",
      "MusicDelta_Beatles (185, 3)\n",
      "MusicDelta_BebopJazz (532, 3)\n",
      "MusicDelta_Beethoven (41, 3)\n",
      "MusicDelta_Britpop (193, 3)\n",
      "MusicDelta_ChineseChaoZhou (319, 3)\n",
      "MusicDelta_ChineseDrama (511, 3)\n",
      "MusicDelta_ChineseHenan (258, 3)\n",
      "MusicDelta_ChineseJiangNan (229, 3)\n",
      "MusicDelta_ChineseXinJing (280, 3)\n",
      "MusicDelta_ChineseYaoZu (190, 3)\n",
      "MusicDelta_CoolJazz (248, 3)\n",
      "MusicDelta_Country1 (181, 3)\n",
      "MusicDelta_Country2 (122, 3)\n",
      "MusicDelta_Disco (875, 3)\n",
      "MusicDelta_FreeJazz (498, 3)\n",
      "MusicDelta_FunkJazz (132, 3)\n",
      "MusicDelta_FusionJazz (386, 3)\n",
      "MusicDelta_Gospel (384, 3)\n",
      "MusicDelta_GriegTrolltog (273, 3)\n",
      "MusicDelta_Grunge (288, 3)\n",
      "MusicDelta_Hendrix (106, 3)\n",
      "MusicDelta_InTheHalloftheMountainKing (50, 3)\n",
      "MusicDelta_LatinJazz (306, 3)\n",
      "MusicDelta_ModalJazz (347, 3)\n",
      "MusicDelta_Pachelbel (754, 3)\n",
      "MusicDelta_Punk (170, 3)\n",
      "MusicDelta_Reggae (80, 3)\n",
      "MusicDelta_Rock (132, 3)\n",
      "MusicDelta_Rockabilly (168, 3)\n",
      "MusicDelta_Shadows (48, 3)\n",
      "MusicDelta_SpeedMetal (213, 3)\n",
      "MusicDelta_SwingJazz (259, 3)\n",
      "MusicDelta_Vivaldi (78, 3)\n",
      "MusicDelta_Zeppelin (149, 3)\n",
      "NightPanther_Fire (664, 3)\n",
      "Phoenix_BrokenPledgeChicagoReel (1246, 3)\n",
      "Phoenix_ColliersDaughter (641, 3)\n",
      "Phoenix_ElzicsFarewell (741, 3)\n",
      "Phoenix_LarkOnTheStrandDrummondCastle (1032, 3)\n",
      "Phoenix_ScotchMorris (650, 3)\n",
      "Phoenix_SeanCaughlinsTheScartaglen (1032, 3)\n",
      "PortStWillow_StayEven (605, 3)\n",
      "PurlingHiss_Lolita (1187, 3)\n",
      "Schubert_Erstarrung (1367, 3)\n",
      "Schumann_Mignon (1848, 3)\n",
      "SecretMountains_HighHorse (500, 3)\n",
      "Snowmine_Curfews (648, 3)\n",
      "StevenClark_Bounty (1273, 3)\n",
      "StrandOfOaks_Spacestation (439, 3)\n",
      "SweetLights_YouLetMeDown (796, 3)\n",
      "TheDistricts_Vermont (870, 3)\n",
      "TheScarletBrand_LesFleursDuMal (1546, 3)\n",
      "TheSoSoGlos_Emergency (649, 3)\n",
      "Wolf_DieBekherte (1125, 3)\n"
     ]
    }
   ],
   "source": [
    "csv_path = '../content/gen_label/2560/Melody2_midi/AClassicEducation_NightOwl.csv'\n",
    "label_dir = '../content/gen_label/2560/Melody2_midi/'\n",
    "label_dict = dataset.create_label_dict_from_dir(label_dir)\n",
    "for k, v in label_dict.items():\n",
    "    print(k, v.shape)\n"
   ]
  },
  {
   "cell_type": "code",
   "execution_count": 18,
   "metadata": {},
   "outputs": [
    {
     "data": {
      "text/html": [
       "<div>\n",
       "<style scoped>\n",
       "    .dataframe tbody tr th:only-of-type {\n",
       "        vertical-align: middle;\n",
       "    }\n",
       "\n",
       "    .dataframe tbody tr th {\n",
       "        vertical-align: top;\n",
       "    }\n",
       "\n",
       "    .dataframe thead th {\n",
       "        text-align: right;\n",
       "    }\n",
       "</style>\n",
       "<table border=\"1\" class=\"dataframe\">\n",
       "  <thead>\n",
       "    <tr style=\"text-align: right;\">\n",
       "      <th></th>\n",
       "      <th>0</th>\n",
       "      <th>1</th>\n",
       "    </tr>\n",
       "  </thead>\n",
       "  <tbody>\n",
       "    <tr>\n",
       "      <th>AClassicEducation_NightOwl</th>\n",
       "      <td>../content/gen_label/2560/Melody2_midi/AClassi...</td>\n",
       "      <td>E:\\Spaceship420\\MY GIT\\mono_pitch_tracker\\medl...</td>\n",
       "    </tr>\n",
       "    <tr>\n",
       "      <th>AimeeNorwich_Child</th>\n",
       "      <td>../content/gen_label/2560/Melody2_midi/AimeeNo...</td>\n",
       "      <td>E:\\Spaceship420\\MY GIT\\mono_pitch_tracker\\medl...</td>\n",
       "    </tr>\n",
       "    <tr>\n",
       "      <th>AimeeNorwich_Flying</th>\n",
       "      <td>../content/gen_label/2560/Melody2_midi/AimeeNo...</td>\n",
       "      <td>E:\\Spaceship420\\MY GIT\\mono_pitch_tracker\\medl...</td>\n",
       "    </tr>\n",
       "    <tr>\n",
       "      <th>AlexanderRoss_GoodbyeBolero</th>\n",
       "      <td>../content/gen_label/2560/Melody2_midi/Alexand...</td>\n",
       "      <td>E:\\Spaceship420\\MY GIT\\mono_pitch_tracker\\medl...</td>\n",
       "    </tr>\n",
       "    <tr>\n",
       "      <th>AlexanderRoss_VelvetCurtain</th>\n",
       "      <td>../content/gen_label/2560/Melody2_midi/Alexand...</td>\n",
       "      <td>E:\\Spaceship420\\MY GIT\\mono_pitch_tracker\\medl...</td>\n",
       "    </tr>\n",
       "  </tbody>\n",
       "</table>\n",
       "</div>"
      ],
      "text/plain": [
       "                                                                             0  \\\n",
       "AClassicEducation_NightOwl   ../content/gen_label/2560/Melody2_midi/AClassi...   \n",
       "AimeeNorwich_Child           ../content/gen_label/2560/Melody2_midi/AimeeNo...   \n",
       "AimeeNorwich_Flying          ../content/gen_label/2560/Melody2_midi/AimeeNo...   \n",
       "AlexanderRoss_GoodbyeBolero  ../content/gen_label/2560/Melody2_midi/Alexand...   \n",
       "AlexanderRoss_VelvetCurtain  ../content/gen_label/2560/Melody2_midi/Alexand...   \n",
       "\n",
       "                                                                             1  \n",
       "AClassicEducation_NightOwl   E:\\Spaceship420\\MY GIT\\mono_pitch_tracker\\medl...  \n",
       "AimeeNorwich_Child           E:\\Spaceship420\\MY GIT\\mono_pitch_tracker\\medl...  \n",
       "AimeeNorwich_Flying          E:\\Spaceship420\\MY GIT\\mono_pitch_tracker\\medl...  \n",
       "AlexanderRoss_GoodbyeBolero  E:\\Spaceship420\\MY GIT\\mono_pitch_tracker\\medl...  \n",
       "AlexanderRoss_VelvetCurtain  E:\\Spaceship420\\MY GIT\\mono_pitch_tracker\\medl...  "
      ]
     },
     "metadata": {},
     "output_type": "display_data"
    }
   ],
   "source": [
    "dataset_paths = dataset.create_dataset_path_dict(label_dir)\n",
    "dataset_paths_df = pd.DataFrame(dataset_paths).transpose()\n",
    "# dataset_paths_df.columns=['track_id', 'label_path', 'audio_path']\n",
    "display(dataset_paths_df.head(5))\n",
    "del dataset_paths_df\n"
   ]
  },
  {
   "cell_type": "code",
   "execution_count": 19,
   "metadata": {},
   "outputs": [
    {
     "name": "stdout",
     "output_type": "stream",
     "text": [
      "Failed to load audio with `torchaudio`, fallback to `librosa` Error opening 'E:\\\\Spaceship420\\\\MY GIT\\\\mono_pitch_tracker\\\\medleydb\\\\medleydb\\\\data/Audio\\\\AimeeNorwich_Child\\\\AimeeNorwich_Child_MIX.wav': Format not recognised.\n"
     ]
    },
    {
     "name": "stderr",
     "output_type": "stream",
     "text": [
      "e:\\Programs\\miniconda3\\envs\\mpt_2022\\lib\\site-packages\\librosa\\util\\decorators.py:88: UserWarning: PySoundFile failed. Trying audioread instead.\n",
      "  return f(*args, **kwargs)\n"
     ]
    },
    {
     "data": {
      "text/plain": [
       "[]"
      ]
     },
     "metadata": {},
     "output_type": "display_data"
    }
   ],
   "source": [
    "feature_label_gen = dataset.create_feature_label_generator(\n",
    "    dataset_path_dict=dataset_paths,\n",
    "    sample_rate=SAMPLE_RATE,\n",
    "    n_fft=N_FFT,\n",
    "    n_mels=N_MELS,\n",
    "    n_class=N_CLASS,\n",
    "    hop_length=HOP_LENGTH,\n",
    "    patch_step=PATCH_STEP,\n",
    "    patch_size=PATCH_SIZE,\n",
    "    analysis_frame_size=ANALYSIS_FRAME_SIZE,\n",
    "    analysis_frame_time=ANALYSIS_FRAME_TIME,\n",
    "    dist_threshold=0.1,\n",
    "    empty_threshold=0.3,\n",
    "    fmin=F_MIN,\n",
    ")\n",
    "\n",
    "output_dir = '../content/pickled_database/'\n",
    "passed_songs = dataset.write_feature_label_to_disk_by_frame(\n",
    "    feature_label_gen, output_dir, categorize_by_subdir = True)\n",
    "failed_songs = [label for label in dataset_paths if label not in passed_songs]\n",
    "display(failed_songs)\n",
    "del failed_songs"
   ]
  },
  {
   "cell_type": "code",
   "execution_count": 20,
   "metadata": {},
   "outputs": [
    {
     "ename": "IndexError",
     "evalue": "list index out of range",
     "output_type": "error",
     "traceback": [
      "\u001b[1;31m---------------------------------------------------------------------------\u001b[0m",
      "\u001b[1;31mIndexError\u001b[0m                                Traceback (most recent call last)",
      "Cell \u001b[1;32mIn[20], line 2\u001b[0m\n\u001b[0;32m      1\u001b[0m pickled_paths \u001b[39m=\u001b[39m \u001b[39mlist\u001b[39m(files\u001b[39m.\u001b[39mlist_file_paths_in_dir(output_dir))\n\u001b[1;32m----> 2\u001b[0m sample_pickled_path \u001b[39m=\u001b[39m random\u001b[39m.\u001b[39;49mchoice(pickled_paths)\n\u001b[0;32m      3\u001b[0m feature, label \u001b[39m=\u001b[39m files\u001b[39m.\u001b[39mload_pickle(sample_pickled_path)\n\u001b[0;32m      5\u001b[0m label_onsets:np\u001b[39m.\u001b[39mndarray \u001b[39m=\u001b[39m label[\u001b[39m'\u001b[39m\u001b[39monset\u001b[39m\u001b[39m'\u001b[39m]\n",
      "File \u001b[1;32me:\\Programs\\miniconda3\\envs\\mpt_2022\\lib\\random.py:346\u001b[0m, in \u001b[0;36mRandom.choice\u001b[1;34m(self, seq)\u001b[0m\n\u001b[0;32m    344\u001b[0m \u001b[39m\"\"\"Choose a random element from a non-empty sequence.\"\"\"\u001b[39;00m\n\u001b[0;32m    345\u001b[0m \u001b[39m# raises IndexError if seq is empty\u001b[39;00m\n\u001b[1;32m--> 346\u001b[0m \u001b[39mreturn\u001b[39;00m seq[\u001b[39mself\u001b[39;49m\u001b[39m.\u001b[39;49m_randbelow(\u001b[39mlen\u001b[39;49m(seq))]\n",
      "\u001b[1;31mIndexError\u001b[0m: list index out of range"
     ]
    }
   ],
   "source": [
    "pickled_paths = list(files.list_file_paths_in_dir(output_dir))\n",
    "sample_pickled_path = random.choice(pickled_paths)\n",
    "feature, label = files.load_pickle(sample_pickled_path)\n",
    "\n",
    "label_onsets:np.ndarray = label['onset']\n",
    "label_durations:np.ndarray = label['duration']\n",
    "label_pitches:np.ndarray = label['pitch']\n",
    "\n",
    "print(sample_pickled_path)\n",
    "print(feature.shape)\n",
    "print(label_onsets.shape)\n",
    "print(label_durations.shape)\n",
    "print(label_pitches.shape)\n"
   ]
  },
  {
   "cell_type": "code",
   "execution_count": null,
   "metadata": {},
   "outputs": [],
   "source": [
    "\n",
    "\n",
    "# Pitch label is one-hot encoded\n",
    "# decode the pitch label:\n",
    "# - apply flatnonzero to get the index of the label\n",
    "# - add premidistart value to get the correct pitch\n",
    "label_pitches = np.apply_along_axis(func1d=np.flatnonzero, axis=2, arr=label['pitch']).squeeze(-1)\n",
    "label_pitches[label_pitches>0] += PRE_MIDI_START\n",
    "print(label_pitches.shape)"
   ]
  },
  {
   "cell_type": "code",
   "execution_count": null,
   "metadata": {},
   "outputs": [],
   "source": [
    "# Note: currently, each frame overlapped its next frame by 50%\n",
    "def merge_frame(batch, patch_step=PATCH_STEP):\n",
    "    # last_frame = batch[-1].copy()\n",
    "    merged = batch[:, :patch_step]\n",
    "    merged = np.append(merged, batch[-1:, patch_step:], axis=0)\n",
    "    return merged\n",
    "\n"
   ]
  },
  {
   "cell_type": "code",
   "execution_count": null,
   "metadata": {},
   "outputs": [],
   "source": [
    "label_onsets = merge_frame(label_onsets)\n",
    "label_durations = merge_frame(label_durations)\n",
    "label_pitches = merge_frame(label_pitches)"
   ]
  },
  {
   "cell_type": "code",
   "execution_count": null,
   "metadata": {},
   "outputs": [],
   "source": [
    "label_onsets = label_onsets.flatten().astype(int)\n",
    "label_durations = label_durations.flatten().astype(int)\n",
    "label_pitches = label_pitches.flatten()"
   ]
  },
  {
   "cell_type": "code",
   "execution_count": null,
   "metadata": {},
   "outputs": [],
   "source": [
    "print(f'{\"id\":<10}{\"time\":<10}{\"onset\":<10}{\"duration\":<10}{\"pitch\":<10}')\n",
    "for i, (onset, duration, pitch) in enumerate(zip(label_onsets, label_durations, label_pitches)):\n",
    "    f_time = ANALYSIS_FRAME_TIME * i\n",
    "    s = f'{i+1:<10}{f_time:<10,.3f}{onset:<10}{duration:<10}{pitch:<10}'\n",
    "    print(s)"
   ]
  },
  {
   "cell_type": "code",
   "execution_count": null,
   "metadata": {},
   "outputs": [],
   "source": [
    "import pandas as pd\n",
    "from pitch_tracker.utils import files\n",
    "\n",
    "f_time = np.arange(start=0, stop=label_onsets.shape[0],dtype=np.float32) * ANALYSIS_FRAME_TIME\n",
    "\n",
    "csv_dir = '../content/gen_csv_label/'\n",
    "csv_name = files.get_file_name(sample_pickled_path)\n",
    "csv_path = os.path.join(csv_dir, csv_name + '.csv')\n",
    "\n",
    "os.makedirs(csv_dir, exist_ok=True)\n",
    "\n",
    "df = pd.DataFrame(\n",
    "    np.array([f_time, label_onsets, label_durations, label_pitches], dtype=object),\n",
    "    index=['time', 'onset', 'duration', 'pitch'],\n",
    ").T\n",
    "df.to_csv(csv_path, float_format='%.3f')"
   ]
  },
  {
   "cell_type": "code",
   "execution_count": null,
   "metadata": {},
   "outputs": [],
   "source": [
    "sample_path = '..\\content\\pickled_database\\LizNelson_Rainfall\\LizNelson_Rainfall_0.pkl'\n",
    "feature, label = files.load_pickle(sample_path)\n",
    "feature.shape, len(label)"
   ]
  },
  {
   "cell_type": "code",
   "execution_count": null,
   "metadata": {},
   "outputs": [],
   "source": [
    "feature_label_gen = dataset.create_feature_label_generator(\n",
    "    dataset_path_dict=dataset_paths,\n",
    "    sample_rate=SAMPLE_RATE,\n",
    "    n_fft=N_FFT,\n",
    "    n_mels=N_MELS,\n",
    "    n_class=N_CLASS,\n",
    "    hop_length=HOP_LENGTH,\n",
    "    patch_step=PATCH_STEP,\n",
    "    patch_size=PATCH_SIZE,\n",
    "    analysis_frame_size=ANALYSIS_FRAME_SIZE,\n",
    "    analysis_frame_time=ANALYSIS_FRAME_TIME,\n",
    "    dist_threshold=0.1,\n",
    "    empty_threshold=0.3,\n",
    ")\n",
    "\n",
    "for label_name, feature_label_pairs in feature_label_gen:\n",
    "    n_durs_pos = 0\n",
    "    n_pitches = 0\n",
    "    for i, (feature, (onsets, durations, pitches)) in enumerate(feature_label_pairs):\n",
    "        n_durs_pos += np.count_nonzero(durations)\n",
    "        n_pitches += np.count_nonzero(pitches[:,1:])\n",
    "    print(f'{label_name}: {n_durs_pos}/{210*(i+1)} \\t {n_pitches}/{210*(i+1)}')"
   ]
  }
 ],
 "metadata": {
  "kernelspec": {
   "display_name": "base",
   "language": "python",
   "name": "python3"
  },
  "language_info": {
   "codemirror_mode": {
    "name": "ipython",
    "version": 3
   },
   "file_extension": ".py",
   "mimetype": "text/x-python",
   "name": "python",
   "nbconvert_exporter": "python",
   "pygments_lexer": "ipython3",
   "version": "3.9.16"
  },
  "orig_nbformat": 4,
  "vscode": {
   "interpreter": {
    "hash": "52beeaf2f359c8a16806d5f0d8f5873f1371a44c8d29b1d1f26a131eb5378aea"
   }
  }
 },
 "nbformat": 4,
 "nbformat_minor": 2
}
