{
 "cells": [
  {
   "cell_type": "code",
   "execution_count": null,
   "metadata": {},
   "outputs": [],
   "source": [
    "# make a data generator that yeild the features and labels\n",
    "# we first need to cut the audio into frames\n",
    "# then get the labels to fit those frames\n"
   ]
  },
  {
   "cell_type": "code",
   "execution_count": null,
   "metadata": {},
   "outputs": [],
   "source": [
    "%load_ext autoreload\n",
    "%autoreload 2\n"
   ]
  },
  {
   "cell_type": "code",
   "execution_count": null,
   "metadata": {},
   "outputs": [],
   "source": [
    "# cut audio into frames\n",
    "import os\n",
    "\n",
    "import numpy as np\n",
    "import pandas as pd\n",
    "import random\n",
    "\n",
    "\n",
    "from pitch_tracker.utils.constants import (HOP_LENGTH, N_FFT, N_MELS,\n",
    "                                           PICKING_FRAME_SIZE,\n",
    "                                           PICKING_FRAME_STEP,\n",
    "                                           SAMPLE_RATE,\n",
    "                                           STEP_FRAME, STEP_TIME,\n",
    "                                           N_CLASS, PRE_MIDI_START)\n",
    "from pitch_tracker.utils.audio import load_audio_mono\n",
    "from pitch_tracker.utils import files\n",
    "from pitch_tracker.utils import dataset\n"
   ]
  },
  {
   "cell_type": "code",
   "execution_count": null,
   "metadata": {},
   "outputs": [],
   "source": [
    "audio_path = '../medleydb/medleydb/data/Audio/Phoenix_ScotchMorris/Phoenix_ScotchMorris_MIX.wav'\n",
    "signal, sample_rate = load_audio_mono(\n",
    "    audio_path, SAMPLE_RATE, keep_channel_dim=True)\n",
    "mel_features = dataset.extract_melspectrogram_feature(\n",
    "    signal, N_FFT, HOP_LENGTH, N_MELS, SAMPLE_RATE, backend='librosa')\n",
    "print(mel_features.shape)\n",
    "\n",
    "stft_feature = dataset.extract_stft_feature(signal, N_FFT, HOP_LENGTH)\n",
    "print(stft_feature.shape)\n"
   ]
  },
  {
   "cell_type": "code",
   "execution_count": null,
   "metadata": {},
   "outputs": [],
   "source": [
    "csv_path = '../content/gen_label/2560/Melody2_midi/AClassicEducation_NightOwl.csv'\n",
    "label_dir = '../content/gen_label/2560/Melody2_midi/'\n",
    "label_dict = dataset.create_label_dict_from_dir(label_dir)\n",
    "for k, v in label_dict.items():\n",
    "    print(k, v.shape)\n"
   ]
  },
  {
   "cell_type": "code",
   "execution_count": null,
   "metadata": {},
   "outputs": [],
   "source": [
    "dataset_paths = dataset.create_dataset_path_dict(label_dir)\n",
    "dataset_paths_df = pd.DataFrame(dataset_paths).transpose()\n",
    "# dataset_paths_df.columns=['track_id', 'label_path', 'audio_path']\n",
    "display(dataset_paths_df.head(5))\n",
    "del dataset_paths_df\n"
   ]
  },
  {
   "cell_type": "code",
   "execution_count": null,
   "metadata": {},
   "outputs": [],
   "source": [
    "feature_label_gen = dataset.create_feature_label_generator(\n",
    "    dataset_path_dict=dataset_paths,\n",
    "    sample_rate=SAMPLE_RATE,\n",
    "    n_fft=N_FFT,\n",
    "    n_mels=N_MELS,\n",
    "    n_class=N_CLASS,\n",
    "    hop_length=HOP_LENGTH,\n",
    "    picking_frame_step=PICKING_FRAME_STEP,\n",
    "    picking_frame_size=PICKING_FRAME_SIZE,\n",
    "    step_frame=STEP_FRAME,\n",
    "    step_time=STEP_TIME,\n",
    "    dist_threshold=0.1,\n",
    "    empty_threshold=0.3,\n",
    ")\n",
    "\n",
    "output_dir = '../content/pickled_database/'\n",
    "passed_songs = dataset.write_feature_label_to_disk_by_frame(\n",
    "    feature_label_gen, output_dir, categorize_by_subdir = True)\n",
    "failed_songs = [label for label in dataset_paths if label not in passed_songs]\n",
    "display(failed_songs)\n",
    "del failed_songs"
   ]
  },
  {
   "cell_type": "code",
   "execution_count": null,
   "metadata": {},
   "outputs": [],
   "source": [
    "pickled_paths = list(files.list_file_paths_in_dir(output_dir))\n",
    "sample_pickled_path = random.choice(pickled_paths)\n",
    "feature, label = files.load_pickle(sample_pickled_path)\n",
    "\n",
    "label_onsets:np.ndarray = label['onset']\n",
    "label_durations:np.ndarray = label['duration']\n",
    "label_pitches:np.ndarray = label['pitch']\n",
    "\n",
    "print(sample_pickled_path)\n",
    "print(feature.shape)\n",
    "print(label_onsets.shape)\n",
    "print(label_durations.shape)\n",
    "print(label_pitches.shape)\n"
   ]
  },
  {
   "cell_type": "code",
   "execution_count": null,
   "metadata": {},
   "outputs": [],
   "source": [
    "\n",
    "\n",
    "# Pitch label is one-hot encoded\n",
    "# decode the pitch label:\n",
    "# - apply flatnonzero to get the index of the label\n",
    "# - add premidistart value to get the correct pitch\n",
    "label_pitches = np.apply_along_axis(func1d=np.flatnonzero, axis=2, arr=label['pitch']).squeeze(-1)\n",
    "label_pitches[label_pitches>0] += PRE_MIDI_START\n",
    "print(label_pitches.shape)"
   ]
  },
  {
   "cell_type": "code",
   "execution_count": null,
   "metadata": {},
   "outputs": [],
   "source": [
    "# Note: currently, each frame overlapped its next frame by 50%\n",
    "def merge_frame(batch, picking_frame_step=PICKING_FRAME_STEP):\n",
    "    # last_frame = batch[-1].copy()\n",
    "    merged = batch[:, :picking_frame_step]\n",
    "    merged = np.append(merged, batch[-1:, picking_frame_step:], axis=0)\n",
    "    return merged\n",
    "\n"
   ]
  },
  {
   "cell_type": "code",
   "execution_count": null,
   "metadata": {},
   "outputs": [],
   "source": [
    "label_onsets = merge_frame(label_onsets)\n",
    "label_durations = merge_frame(label_durations)\n",
    "label_pitches = merge_frame(label_pitches)"
   ]
  },
  {
   "cell_type": "code",
   "execution_count": null,
   "metadata": {},
   "outputs": [],
   "source": [
    "label_onsets = label_onsets.flatten().astype(int)\n",
    "label_durations = label_durations.flatten().astype(int)\n",
    "label_pitches = label_pitches.flatten()"
   ]
  },
  {
   "cell_type": "code",
   "execution_count": null,
   "metadata": {},
   "outputs": [],
   "source": [
    "print(f'{\"id\":<10}{\"time\":<10}{\"onset\":<10}{\"duration\":<10}{\"pitch\":<10}')\n",
    "for i, (onset, duration, pitch) in enumerate(zip(label_onsets, label_durations, label_pitches)):\n",
    "    f_time = STEP_TIME * i\n",
    "    s = f'{i+1:<10}{f_time:<10,.3f}{onset:<10}{duration:<10}{pitch:<10}'\n",
    "    print(s)"
   ]
  },
  {
   "cell_type": "code",
   "execution_count": null,
   "metadata": {},
   "outputs": [],
   "source": [
    "import pandas as pd\n",
    "from pitch_tracker.utils import files\n",
    "\n",
    "f_time = np.arange(start=0, stop=label_onsets.shape[0],dtype=np.float32) * STEP_TIME\n",
    "\n",
    "csv_dir = '../content/gen_csv_label/'\n",
    "csv_name = files.get_file_name(sample_pickled_path)\n",
    "csv_path = os.path.join(csv_dir, csv_name + '.csv')\n",
    "\n",
    "os.makedirs(csv_dir, exist_ok=True)\n",
    "\n",
    "df = pd.DataFrame(\n",
    "    np.array([f_time, label_onsets, label_durations, label_pitches], dtype=object),\n",
    "    index=['time', 'onset', 'duration', 'pitch'],\n",
    ").T\n",
    "df.to_csv(csv_path, float_format='%.3f')"
   ]
  },
  {
   "cell_type": "code",
   "execution_count": null,
   "metadata": {},
   "outputs": [],
   "source": [
    "sample_path = '..\\content\\pickled_database\\LizNelson_Rainfall\\LizNelson_Rainfall_0.pkl'\n",
    "feature, label = files.load_pickle(sample_path)\n",
    "feature.shape, len(label)"
   ]
  },
  {
   "cell_type": "code",
   "execution_count": null,
   "metadata": {},
   "outputs": [],
   "source": [
    "feature_label_gen = dataset.create_feature_label_generator(\n",
    "    dataset_path_dict=dataset_paths,\n",
    "    sample_rate=SAMPLE_RATE,\n",
    "    n_fft=N_FFT,\n",
    "    n_mels=N_MELS,\n",
    "    n_class=N_CLASS,\n",
    "    hop_length=HOP_LENGTH,\n",
    "    picking_frame_step=PICKING_FRAME_STEP,\n",
    "    picking_frame_size=PICKING_FRAME_SIZE,\n",
    "    step_frame=STEP_FRAME,\n",
    "    step_time=STEP_TIME,\n",
    "    dist_threshold=0.1,\n",
    "    empty_threshold=0.3,\n",
    ")\n",
    "\n",
    "for label_name, feature_label_pairs in feature_label_gen:\n",
    "    n_durs_pos = 0\n",
    "    n_pitches = 0\n",
    "    for i, (feature, (onsets, durations, pitches)) in enumerate(feature_label_pairs):\n",
    "        n_durs_pos += np.count_nonzero(durations)\n",
    "        n_pitches += np.count_nonzero(pitches[:,1:])\n",
    "    print(f'{label_name}: {n_durs_pos}/{210*(i+1)} \\t {n_pitches}/{210*(i+1)}')"
   ]
  }
 ],
 "metadata": {
  "kernelspec": {
   "display_name": "base",
   "language": "python",
   "name": "python3"
  },
  "language_info": {
   "codemirror_mode": {
    "name": "ipython",
    "version": 3
   },
   "file_extension": ".py",
   "mimetype": "text/x-python",
   "name": "python",
   "nbconvert_exporter": "python",
   "pygments_lexer": "ipython3",
   "version": "3.9.16"
  },
  "orig_nbformat": 4,
  "vscode": {
   "interpreter": {
    "hash": "52beeaf2f359c8a16806d5f0d8f5873f1371a44c8d29b1d1f26a131eb5378aea"
   }
  }
 },
 "nbformat": 4,
 "nbformat_minor": 2
}
