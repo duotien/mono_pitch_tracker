{
 "cells": [
  {
   "cell_type": "code",
   "execution_count": 1,
   "metadata": {},
   "outputs": [],
   "source": [
    "%load_ext autoreload\n",
    "%autoreload 2"
   ]
  },
  {
   "cell_type": "code",
   "execution_count": 2,
   "metadata": {},
   "outputs": [],
   "source": [
    "import os\n",
    "import json\n",
    "import csv\n",
    "\n",
    "import pandas as pd\n",
    "import torch\n",
    "from torch.utils.data import DataLoader\n",
    "from sklearn.model_selection import train_test_split\n",
    "from matplotlib import pyplot as plt\n",
    "\n",
    "from pitch_tracker.utils import files, dataset\n",
    "from pitch_tracker.utils.constants import SAMPLE_RATE, PATCH_SIZE, RANDOM_STATE\n",
    "\n",
    "import medleydb\n"
   ]
  },
  {
   "cell_type": "code",
   "execution_count": 3,
   "metadata": {},
   "outputs": [],
   "source": [
    "stft_hop_size = 512\n",
    "analysis_frame_size = 5\n",
    "onset_frame_time = stft_hop_size*analysis_frame_size/SAMPLE_RATE\n",
    "pick_frame_time = PATCH_SIZE * onset_frame_time\n",
    "\n",
    "DATASET_DIR = f'../content/pickled_database/{stft_hop_size}_{analysis_frame_size}/'\n",
    "DATA_SPLIT_PATH = dataset.DATA_SPLIT_PATH\n"
   ]
  },
  {
   "cell_type": "code",
   "execution_count": 4,
   "metadata": {},
   "outputs": [
    {
     "name": "stdout",
     "output_type": "stream",
     "text": [
      "Missing tracks: 0 []\n",
      "Missing tracks: 0 []\n",
      "train_set: 54\n",
      "validation_set: 27\n",
      "test_set: 27\n"
     ]
    }
   ],
   "source": [
    "train_df, validation_df, test_df = dataset.split_dataset_df('thesis', pickled_data_dir=DATASET_DIR)"
   ]
  },
  {
   "cell_type": "code",
   "execution_count": 5,
   "metadata": {},
   "outputs": [
    {
     "data": {
      "text/html": [
       "<div>\n",
       "<style scoped>\n",
       "    .dataframe tbody tr th:only-of-type {\n",
       "        vertical-align: middle;\n",
       "    }\n",
       "\n",
       "    .dataframe tbody tr th {\n",
       "        vertical-align: top;\n",
       "    }\n",
       "\n",
       "    .dataframe thead th {\n",
       "        text-align: right;\n",
       "    }\n",
       "</style>\n",
       "<table border=\"1\" class=\"dataframe\">\n",
       "  <thead>\n",
       "    <tr style=\"text-align: right;\">\n",
       "      <th></th>\n",
       "      <th>track_id</th>\n",
       "      <th>artist</th>\n",
       "      <th>predominant_instrument</th>\n",
       "      <th>melody2_instruments</th>\n",
       "      <th>genre</th>\n",
       "      <th>duration</th>\n",
       "      <th>has_bleed</th>\n",
       "      <th>pickled_path</th>\n",
       "    </tr>\n",
       "  </thead>\n",
       "  <tbody>\n",
       "    <tr>\n",
       "      <th>16</th>\n",
       "      <td>JoelHelander_ExcessiveResistancetoChange</td>\n",
       "      <td>JoelHelander</td>\n",
       "      <td>tack piano</td>\n",
       "      <td>[tack piano, clarinet, piano, violin]</td>\n",
       "      <td>Classical</td>\n",
       "      <td>250.180952</td>\n",
       "      <td>True</td>\n",
       "      <td>../content/pickled_database/512_5/JoelHelander...</td>\n",
       "    </tr>\n",
       "    <tr>\n",
       "      <th>22</th>\n",
       "      <td>LizNelson_Rainfall</td>\n",
       "      <td>LizNelson</td>\n",
       "      <td>female singer</td>\n",
       "      <td>[female singer]</td>\n",
       "      <td>Singer/Songwriter</td>\n",
       "      <td>284.908844</td>\n",
       "      <td>False</td>\n",
       "      <td>../content/pickled_database/512_5/LizNelson_Ra...</td>\n",
       "    </tr>\n",
       "    <tr>\n",
       "      <th>79</th>\n",
       "      <td>SecretMountains_HighHorse</td>\n",
       "      <td>SecretMountains</td>\n",
       "      <td>female singer</td>\n",
       "      <td>[clean electric guitar, female singer]</td>\n",
       "      <td>Pop</td>\n",
       "      <td>355.500408</td>\n",
       "      <td>False</td>\n",
       "      <td>../content/pickled_database/512_5/SecretMounta...</td>\n",
       "    </tr>\n",
       "    <tr>\n",
       "      <th>50</th>\n",
       "      <td>MusicDelta_Punk</td>\n",
       "      <td>MusicDelta</td>\n",
       "      <td>male singer</td>\n",
       "      <td>[male singer]</td>\n",
       "      <td>Rock</td>\n",
       "      <td>28.762540</td>\n",
       "      <td>False</td>\n",
       "      <td>../content/pickled_database/512_5/MusicDelta_Punk</td>\n",
       "    </tr>\n",
       "    <tr>\n",
       "      <th>1</th>\n",
       "      <td>AlexanderRoss_GoodbyeBolero</td>\n",
       "      <td>AlexanderRoss</td>\n",
       "      <td>male singer</td>\n",
       "      <td>[harmonica, male singer, brass section, clean ...</td>\n",
       "      <td>Singer/Songwriter</td>\n",
       "      <td>418.816757</td>\n",
       "      <td>False</td>\n",
       "      <td>../content/pickled_database/512_5/AlexanderRos...</td>\n",
       "    </tr>\n",
       "  </tbody>\n",
       "</table>\n",
       "</div>"
      ],
      "text/plain": [
       "                                    track_id           artist  \\\n",
       "16  JoelHelander_ExcessiveResistancetoChange     JoelHelander   \n",
       "22                        LizNelson_Rainfall        LizNelson   \n",
       "79                 SecretMountains_HighHorse  SecretMountains   \n",
       "50                           MusicDelta_Punk       MusicDelta   \n",
       "1                AlexanderRoss_GoodbyeBolero    AlexanderRoss   \n",
       "\n",
       "   predominant_instrument                                melody2_instruments  \\\n",
       "16             tack piano              [tack piano, clarinet, piano, violin]   \n",
       "22          female singer                                    [female singer]   \n",
       "79          female singer             [clean electric guitar, female singer]   \n",
       "50            male singer                                      [male singer]   \n",
       "1             male singer  [harmonica, male singer, brass section, clean ...   \n",
       "\n",
       "                genre    duration  has_bleed  \\\n",
       "16          Classical  250.180952       True   \n",
       "22  Singer/Songwriter  284.908844      False   \n",
       "79                Pop  355.500408      False   \n",
       "50               Rock   28.762540      False   \n",
       "1   Singer/Songwriter  418.816757      False   \n",
       "\n",
       "                                         pickled_path  \n",
       "16  ../content/pickled_database/512_5/JoelHelander...  \n",
       "22  ../content/pickled_database/512_5/LizNelson_Ra...  \n",
       "79  ../content/pickled_database/512_5/SecretMounta...  \n",
       "50  ../content/pickled_database/512_5/MusicDelta_Punk  \n",
       "1   ../content/pickled_database/512_5/AlexanderRos...  "
      ]
     },
     "execution_count": 5,
     "metadata": {},
     "output_type": "execute_result"
    }
   ],
   "source": [
    "train_df.head(5)"
   ]
  },
  {
   "attachments": {},
   "cell_type": "markdown",
   "metadata": {},
   "source": [
    "# Dataset distribution"
   ]
  },
  {
   "attachments": {},
   "cell_type": "markdown",
   "metadata": {},
   "source": [
    "## Genres"
   ]
  },
  {
   "cell_type": "code",
   "execution_count": 6,
   "metadata": {},
   "outputs": [
    {
     "data": {
      "image/png": "[encoded data removed]",
      "text/plain": [
       "<Figure size 800x800 with 1 Axes>"
      ]
     },
     "metadata": {},
     "output_type": "display_data"
    }
   ],
   "source": [
    "def plot_bars(dfs, figsize=(8, 8)):\n",
    "    df = pd.concat(dfs, axis=1)\n",
    "    fig, ax = plt.subplots(figsize=figsize)\n",
    "    df.plot.bar(rot=45, ax=ax)\n",
    "    for i in ax.containers:\n",
    "        ax.bar_label(i)\n",
    "    plt.show()\n",
    "\n",
    "series = []\n",
    "s = train_df['genre'].value_counts()\n",
    "s.name = \"Train\"\n",
    "series.append(s)\n",
    "s = validation_df['genre'].value_counts()\n",
    "s.name = \"validation\"\n",
    "series.append(s)\n",
    "s = test_df['genre'].value_counts()\n",
    "s.name = \"test\"\n",
    "series.append(s)\n",
    "\n",
    "plot_bars(series) "
   ]
  },
  {
   "attachments": {},
   "cell_type": "markdown",
   "metadata": {},
   "source": [
    "## Duration"
   ]
  },
  {
   "cell_type": "code",
   "execution_count": 7,
   "metadata": {},
   "outputs": [],
   "source": [
    "## This commented code will calculate the number of pick_frames using duration \n",
    "# train_samples = ((train_df['duration'] / pick_frame_time)+0.5).astype(int).sum()\n",
    "# validation_samples =((validation_df['duration'] / pick_frame_time)+0.5).astype(int).sum()\n",
    "# test_samples =((test_df['duration'] / pick_frame_time)+0.5).astype(int).sum()\n",
    "\n",
    "train_samples = sum([len(files.list_all_file_paths_in_dir(dir_path)) for dir_path in train_df['pickled_path']])\n",
    "validation_samples = sum([len(files.list_all_file_paths_in_dir(dir_path)) for dir_path in validation_df['pickled_path']])\n",
    "test_samples = sum([len(files.list_all_file_paths_in_dir(dir_path)) for dir_path in test_df['pickled_path']])"
   ]
  },
  {
   "cell_type": "code",
   "execution_count": 8,
   "metadata": {},
   "outputs": [
    {
     "name": "stdout",
     "output_type": "stream",
     "text": [
      "Number of frame\n",
      "train: 1451\n",
      "validation: 763\n",
      "test: 945\n",
      "ratio: 0.46/0.24/0.30\n"
     ]
    }
   ],
   "source": [
    "total_samples = train_samples+validation_samples+test_samples\n",
    "print('Number of frame')\n",
    "print(f'train: {train_samples}')\n",
    "print(f'validation: {validation_samples}')\n",
    "print(f'test: {test_samples}')\n",
    "print(f'ratio: {train_samples/total_samples:.2f}/{validation_samples/total_samples:.2f}/{test_samples/total_samples:.2f}')"
   ]
  },
  {
   "attachments": {},
   "cell_type": "markdown",
   "metadata": {},
   "source": [
    "# Dataset & dataloader"
   ]
  },
  {
   "cell_type": "code",
   "execution_count": 9,
   "metadata": {},
   "outputs": [],
   "source": [
    "train_set = train_df['pickled_path']\n",
    "validation_set = validation_df['pickled_path']\n",
    "test_set = test_df['pickled_path']"
   ]
  },
  {
   "cell_type": "code",
   "execution_count": 10,
   "metadata": {},
   "outputs": [],
   "source": [
    "train_dataset = dataset.AudioDataset(train_set)\n",
    "validation_set = dataset.AudioDataset(validation_set)\n",
    "\n",
    "train_dataloader = DataLoader(train_dataset, batch_size=8, shuffle=True)\n",
    "validation_dataloader = DataLoader(validation_set, batch_size=8, shuffle=True)"
   ]
  },
  {
   "cell_type": "code",
   "execution_count": 11,
   "metadata": {},
   "outputs": [],
   "source": [
    "feature, label = next(iter(train_dataloader))"
   ]
  },
  {
   "cell_type": "code",
   "execution_count": 12,
   "metadata": {},
   "outputs": [
    {
     "name": "stdout",
     "output_type": "stream",
     "text": [
      "torch.Size([8, 1, 1050, 88])\n"
     ]
    }
   ],
   "source": [
    "print(feature.shape)"
   ]
  },
  {
   "cell_type": "code",
   "execution_count": null,
   "metadata": {},
   "outputs": [],
   "source": []
  }
 ],
 "metadata": {
  "kernelspec": {
   "display_name": "thesis",
   "language": "python",
   "name": "python3"
  },
  "language_info": {
   "codemirror_mode": {
    "name": "ipython",
    "version": 3
   },
   "file_extension": ".py",
   "mimetype": "text/x-python",
   "name": "python",
   "nbconvert_exporter": "python",
   "pygments_lexer": "ipython3",
   "version": "3.9.16"
  },
  "orig_nbformat": 4,
  "vscode": {
   "interpreter": {
    "hash": "f3071ef67f0d52b8c9e2a13540b1ce413279ebac2bba14c7b121f8f9e6920f86"
   }
  }
 },
 "nbformat": 4,
 "nbformat_minor": 2
}
