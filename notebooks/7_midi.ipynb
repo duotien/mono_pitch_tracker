{
 "cells": [
  {
   "cell_type": "code",
   "execution_count": 1,
   "metadata": {},
   "outputs": [],
   "source": [
    "import pandas as pd\n",
    "import numpy as np\n",
    "\n",
    "from mido import Message, MidiFile, MidiTrack\n",
    "import mido\n",
    "import librosa"
   ]
  },
  {
   "cell_type": "code",
   "execution_count": 2,
   "metadata": {},
   "outputs": [],
   "source": [
    "# librosa."
   ]
  },
  {
   "cell_type": "code",
   "execution_count": 3,
   "metadata": {},
   "outputs": [],
   "source": [
    "s_time = 0.5 #second\n",
    "e_time = 1 #second\n",
    "midi_value = 56\n",
    "\n",
    "VELOCITY = 100\n",
    "PROGRAM = 12\n",
    "BPM = 120\n",
    "TEMPO = mido.bpm2tempo(BPM)"
   ]
  },
  {
   "cell_type": "code",
   "execution_count": 6,
   "metadata": {},
   "outputs": [],
   "source": [
    "def add_note(\n",
    "    track,\n",
    "    start_time:float,\n",
    "    end_time:float,\n",
    "    midi_value:int,\n",
    "    ticks_per_beat:int,\n",
    "    tempo:int=TEMPO,\n",
    "    velocity:int=VELOCITY):\n",
    "\n",
    "    s_tick = mido.second2tick(start_time, ticks_per_beat, tempo)\n",
    "    e_tick = mido.second2tick(end_time, ticks_per_beat, tempo)\n",
    "    s_tick = int(s_tick)\n",
    "    e_tick = int(e_tick)\n",
    "\n",
    "    track.append(Message('note_on', note=midi_value, velocity=velocity, time=s_tick))\n",
    "    track.append(Message('note_off', note=midi_value, velocity=velocity, time=e_tick))\n",
    "\n"
   ]
  },
  {
   "cell_type": "code",
   "execution_count": 27,
   "metadata": {},
   "outputs": [],
   "source": [
    "note_messages = [\n",
    "    (0.058049886621315196,0.11609977324263039, 55.0),\n",
    "    (0.11609977324263039,0.1741496598639456, 56.0),\n",
    "    (0.1741496598639456,0.29024943310657597, 58.0),\n",
    "]"
   ]
  },
  {
   "cell_type": "code",
   "execution_count": 31,
   "metadata": {},
   "outputs": [
    {
     "name": "stdout",
     "output_type": "stream",
     "text": [
      "[55.0, 100]\n",
      "[56.0, 125]\n",
      "[58.0, 123]\n"
     ]
    }
   ],
   "source": [
    "mid = MidiFile()\n",
    "track = MidiTrack()\n",
    "mid.tracks.append(track)\n",
    "mid.ticks_per_beat = 480\n",
    "\n",
    "for start_time, end_time, midi_value in note_messages:\n",
    "    midi_value = int(midi_value)\n",
    "    add_note(track,start_time, end_time, midi_value, mid.ticks_per_beat, TEMPO, VELOCITY)\n",
    "\n",
    "mid.save('../content/new_song.mid')"
   ]
  },
  {
   "cell_type": "code",
   "execution_count": null,
   "metadata": {},
   "outputs": [],
   "source": []
  }
 ],
 "metadata": {
  "kernelspec": {
   "display_name": "thesis",
   "language": "python",
   "name": "python3"
  },
  "language_info": {
   "codemirror_mode": {
    "name": "ipython",
    "version": 3
   },
   "file_extension": ".py",
   "mimetype": "text/x-python",
   "name": "python",
   "nbconvert_exporter": "python",
   "pygments_lexer": "ipython3",
   "version": "3.9.15"
  },
  "orig_nbformat": 4,
  "vscode": {
   "interpreter": {
    "hash": "f3071ef67f0d52b8c9e2a13540b1ce413279ebac2bba14c7b121f8f9e6920f86"
   }
  }
 },
 "nbformat": 4,
 "nbformat_minor": 2
}
