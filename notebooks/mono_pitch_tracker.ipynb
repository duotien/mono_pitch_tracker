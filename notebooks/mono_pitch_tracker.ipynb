{
  "cells": [
    {
      "attachments": {},
      "cell_type": "markdown",
      "metadata": {
        "colab_type": "text",
        "id": "view-in-github"
      },
      "source": [
        "<a href=\"https://colab.research.google.com/github/duotien/mono_pitch_tracker/blob/main/notebooks/mono_pitch_tracker.ipynb\" target=\"_parent\"><img src=\"https://colab.research.google.com/assets/colab-badge.svg\" alt=\"Open In Colab\"/></a>"
      ]
    },
    {
      "cell_type": "code",
      "execution_count": null,
      "metadata": {
        "id": "rMOhtGFfjOS2"
      },
      "outputs": [],
      "source": [
        "%load_ext autoreload\n",
        "%autoreload 2"
      ]
    },
    {
      "cell_type": "code",
      "execution_count": null,
      "metadata": {
        "colab": {
          "base_uri": "https://localhost:8080/"
        },
        "id": "Ah605VRzD212",
        "outputId": "9048d825-414c-4426-8c63-fc96d05a42a0"
      },
      "outputs": [
        {
          "name": "stdout",
          "output_type": "stream",
          "text": [
            "Tue Feb 28 11:39:16 2023       \n",
            "+-----------------------------------------------------------------------------+\n",
            "| NVIDIA-SMI 525.85.12    Driver Version: 525.85.12    CUDA Version: 12.0     |\n",
            "|-------------------------------+----------------------+----------------------+\n",
            "| GPU  Name        Persistence-M| Bus-Id        Disp.A | Volatile Uncorr. ECC |\n",
            "| Fan  Temp  Perf  Pwr:Usage/Cap|         Memory-Usage | GPU-Util  Compute M. |\n",
            "|                               |                      |               MIG M. |\n",
            "|===============================+======================+======================|\n",
            "|   0  Tesla T4            Off  | 00000000:00:04.0 Off |                    0 |\n",
            "| N/A   50C    P0    25W /  70W |      0MiB / 15360MiB |      0%      Default |\n",
            "|                               |                      |                  N/A |\n",
            "+-------------------------------+----------------------+----------------------+\n",
            "                                                                               \n",
            "+-----------------------------------------------------------------------------+\n",
            "| Processes:                                                                  |\n",
            "|  GPU   GI   CI        PID   Type   Process name                  GPU Memory |\n",
            "|        ID   ID                                                   Usage      |\n",
            "|=============================================================================|\n",
            "|  No running processes found                                                 |\n",
            "+-----------------------------------------------------------------------------+\n"
          ]
        }
      ],
      "source": [
        "!nvidia-smi"
      ]
    },
    {
      "cell_type": "code",
      "execution_count": null,
      "metadata": {
        "id": "Chat-xKbjYey"
      },
      "outputs": [],
      "source": [
        "%%capture\n",
        "!git clone --recursive https://github.com/duotien/mono_pitch_tracker.git\n",
        "!apt -qq install -y sox\n",
        "!pip install pyyaml==5.4.1 sox librosa==0.9.2"
      ]
    },
    {
      "cell_type": "code",
      "execution_count": null,
      "metadata": {},
      "outputs": [],
      "source": [
        "# Import PyDrive and associated libraries.\n",
        "# This only needs to be done once per notebook.\n",
        "\n",
        "from pydrive.auth import GoogleAuth\n",
        "from pydrive.drive import GoogleDrive\n",
        "from google.colab import auth, drive\n",
        "from oauth2client.client import GoogleCredentials\n",
        "\n",
        "# Authenticate and create the PyDrive client.\n",
        "# This only needs to be done once per notebook.\n",
        "\n",
        "auth.authenticate_user()\n",
        "gauth = GoogleAuth()\n",
        "gauth.credentials = GoogleCredentials.get_application_default()\n",
        "drive = GoogleDrive(gauth)\n",
        "drive.mount('/content/drive')\n",
        "\n",
        "## The code below causes Memory Overflow and will crash the kernel\n",
        "## Download a file based on its file ID.\n",
        "#file_id = '1cKtOEfy014jSjjAlE__o7Pl_LYqXXgsB'\n",
        "#downloaded = drive.CreateFile({'id': file_id})\n",
        "# try:\n",
        "    # print('Downloaded content \"{}\"'.format(downloaded.GetContentString()))\n",
        "# except OverflowError as e:\n",
        "#     print(f'Download failed, file too large: {e}')\n",
        "#     print(f'Get file from google drive...')\n",
        "#     import shutil\n",
        "#     file_to_copy_path = '/content/drive/MyDrive/DataBase/MedleyDB/V1_MIX_AUDIO_ONLY.zip'\n",
        "#     file_to_paste_path = '/content/V1_MIX_AUDIO_ONLY.zip'\n",
        "\n",
        "#     shutil.copy2(file_to_copy_path, file_to_paste_path)"
      ]
    },
    {
      "cell_type": "code",
      "execution_count": null,
      "metadata": {},
      "outputs": [],
      "source": [
        "print(f'Get file from google drive...')\n",
        "import shutil\n",
        "file_to_copy_path = '/content/drive/MyDrive/DataBase/MedleyDB/V1_MIX_AUDIO_ONLY.zip'\n",
        "file_to_paste_path = '/content/V1_MIX_AUDIO_ONLY.zip'\n",
        "\n",
        "shutil.copy2(file_to_copy_path, file_to_paste_path)"
      ]
    },
    {
      "cell_type": "code",
      "execution_count": null,
      "metadata": {
        "id": "CuDbVWOJ5eAR"
      },
      "outputs": [],
      "source": [
        "%%capture\n",
        "!unzip -o V1_MIX_AUDIO_ONLY.zip -d /content/mono_pitch_tracker/medleydb/medleydb/data/Audio/"
      ]
    },
    {
      "cell_type": "code",
      "execution_count": null,
      "metadata": {
        "id": "q-4ji2Zj1Frf"
      },
      "outputs": [],
      "source": [
        "import sys\n",
        "import os\n",
        "\n",
        "NOTEBOOK_DIR = os.getcwd()\n",
        "MONO_PITCH_TRACKER_DIR = os.path.join(os.getcwd(), 'mono_pitch_tracker/')\n",
        "MEDLEYDB_DIR = os.path.join(MONO_PITCH_TRACKER_DIR, 'medleydb/')\n",
        "\n",
        "sys.path.append(MONO_PITCH_TRACKER_DIR)\n",
        "sys.path.append(MEDLEYDB_DIR)"
      ]
    },
    {
      "cell_type": "code",
      "execution_count": null,
      "metadata": {},
      "outputs": [],
      "source": [
        "# change working directory to `mono_pitch_tracker/``\n",
        "%cd $MONO_PITCH_TRACKER_DIR"
      ]
    },
    {
      "cell_type": "markdown",
      "metadata": {
        "id": "fWO4w3XhKl_a"
      },
      "source": [
        "# Prepare Dataset"
      ]
    },
    {
      "cell_type": "code",
      "execution_count": null,
      "metadata": {
        "colab": {
          "base_uri": "https://localhost:8080/"
        },
        "id": "UYsH3fCf2v_l",
        "outputId": "66056720-9746-484a-8a0a-978838aa863a"
      },
      "outputs": [
        {
          "name": "stderr",
          "output_type": "stream",
          "text": [
            "/content/mono_pitch_tracker/medleydb/medleydb/__init__.py:69: YAMLLoadWarning: calling yaml.load() without Loader=... is deprecated, as the default Loader is unsafe. Please read https://msg.pyyaml.org/load for full details.\n",
            "  INST_TAXONOMY = yaml.load(fhandle)\n",
            "/content/mono_pitch_tracker/medleydb/medleydb/__init__.py:77: YAMLLoadWarning: calling yaml.load() without Loader=... is deprecated, as the default Loader is unsafe. Please read https://msg.pyyaml.org/load for full details.\n",
            "  MIXING_COEFFICIENTS = yaml.load(fhandle)\n"
          ]
        }
      ],
      "source": [
        "# cut audio into frames\n",
        "import numpy as np\n",
        "import pandas as pd\n",
        "\n",
        "import medleydb\n",
        "from pitch_tracker.utils.constants import (F_MIN, HOP_LENGTH, N_FFT, N_MELS,\n",
        "                                           PICKING_FRAME_SIZE,\n",
        "                                           PICKING_FRAME_STEP,\n",
        "                                           PICKING_FRAME_TIME, SAMPLE_RATE,\n",
        "                                           STEP_FRAME, STEP_TIME, WIN_LENGTH,\n",
        "                                           N_CLASS, )\n",
        "from pitch_tracker.utils.audio import load_audio_mono\n",
        "from pitch_tracker.utils.files import get_file_name, list_file_paths_in_dir, list_folder_paths_in_dir\n",
        "\n",
        "# from pitch_tracker.utils import dataset, files\n",
        "from pitch_tracker.utils.medleydb_melody import gen_label\n",
        "from pitch_tracker.utils import dataset"
      ]
    },
    {
      "cell_type": "code",
      "execution_count": null,
      "metadata": {},
      "outputs": [],
      "source": [
        "# Prepare datset\n",
        "!python scripts/model.py"
      ]
    },
    {
      "cell_type": "markdown",
      "metadata": {
        "id": "k3ud7hLbWe6x"
      },
      "source": [
        "# Modeling & training"
      ]
    },
    {
      "cell_type": "code",
      "execution_count": null,
      "metadata": {},
      "outputs": [],
      "source": [
        "# Train model\n",
        "! python scripts/model.py"
      ]
    },
    {
      "cell_type": "code",
      "execution_count": null,
      "metadata": {
        "id": "lhM3QWfKChSJ"
      },
      "outputs": [],
      "source": [
        "model = torch.load('/content/drive/MyDrive/School work/KLTN/2022-2023/models/mpt_v01_20231028-2010.pth')"
      ]
    },
    {
      "cell_type": "code",
      "execution_count": null,
      "metadata": {
        "id": "daT0fYRvKetg"
      },
      "outputs": [],
      "source": [
        "import torch\n",
        "\n",
        "dummy_in = torch.randn(8, 1, 1050, 88)\n",
        "in_names = [ \"actual_input_1\" ] + [ \"learned_%d\" % i for i in range(16) ]\n",
        "out_names = [ \"output1\" ]\n",
        "\n",
        "torch.onnx.export(model, dummy_in, f=\"model.onnx\", input_names=in_names, output_names=out_names, opset_version=7, verbose=True)"
      ]
    }
  ],
  "metadata": {
    "accelerator": "GPU",
    "colab": {
      "authorship_tag": "ABX9TyNzm/ZmdkfbNA1ZwHXLOXBi",
      "include_colab_link": true,
      "mount_file_id": "1xxtvjbt8f5apGe2geu0_Nt7ldY4N7yAo",
      "provenance": []
    },
    "gpuClass": "standard",
    "kernelspec": {
      "display_name": "Python 3",
      "name": "python3"
    },
    "language_info": {
      "codemirror_mode": {
        "name": "ipython",
        "version": 3
      },
      "file_extension": ".py",
      "mimetype": "text/x-python",
      "name": "python",
      "nbconvert_exporter": "python",
      "pygments_lexer": "ipython3",
      "version": "3.9.15"
    }
  },
  "nbformat": 4,
  "nbformat_minor": 0
}
